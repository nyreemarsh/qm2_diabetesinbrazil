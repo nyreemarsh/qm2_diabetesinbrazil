{
  "cells": [
    {
      "cell_type": "code",
      "execution_count": 1,
      "metadata": {
        "id": "X5Uc3jVSoUc1"
      },
      "outputs": [],
      "source": [
        "#import libraries\n",
        "import pandas as pandas\n",
        "import matplotlib\n",
        "import pylab\n",
        "import matplotlib.pyplot as plt\n",
        "import numpy as np\n",
        "import seaborn as sns\n",
        "\n",
        "import plotly\n",
        "import plotly.express as px\n",
        "import plotly.io as pio\n",
        "\n",
        "pylab.rcParams['figure.figsize'] = (10., 10.)"
      ]
    },
    {
      "cell_type": "code",
      "execution_count": 2,
      "metadata": {
        "id": "MNuk4l7joUc3"
      },
      "outputs": [],
      "source": [
        "#set plot aesthetic!\n",
        "plt.style.use('dark_background')\n",
        "myColor = {'Brazil':'#2B2A4C'}"
      ]
    },
    {
      "cell_type": "code",
      "execution_count": 3,
      "metadata": {
        "id": "Pt55ECacoUc3"
      },
      "outputs": [],
      "source": [
        "#read in the dataset\n",
        "df = pandas.read_csv('Brazilnewlocationdata.csv')"
      ]
    },
    {
      "cell_type": "code",
      "execution_count": 4,
      "metadata": {
        "colab": {
          "base_uri": "https://localhost:8080/",
          "height": 806
        },
        "id": "3tN9NfvOoUc3",
        "outputId": "f790ae22-435c-4f1c-9a06-c3c8f775ce93"
      },
      "outputs": [
        {
          "data": {
            "text/html": [
              "<div>\n",
              "<style scoped>\n",
              "    .dataframe tbody tr th:only-of-type {\n",
              "        vertical-align: middle;\n",
              "    }\n",
              "\n",
              "    .dataframe tbody tr th {\n",
              "        vertical-align: top;\n",
              "    }\n",
              "\n",
              "    .dataframe thead th {\n",
              "        text-align: right;\n",
              "    }\n",
              "</style>\n",
              "<table border=\"1\" class=\"dataframe\">\n",
              "  <thead>\n",
              "    <tr style=\"text-align: right;\">\n",
              "      <th></th>\n",
              "      <th>measure</th>\n",
              "      <th>location</th>\n",
              "      <th>sex</th>\n",
              "      <th>age</th>\n",
              "      <th>cause</th>\n",
              "      <th>metric</th>\n",
              "      <th>year</th>\n",
              "      <th>val</th>\n",
              "      <th>upper</th>\n",
              "      <th>lower</th>\n",
              "      <th>val_percent</th>\n",
              "    </tr>\n",
              "  </thead>\n",
              "  <tbody>\n",
              "    <tr>\n",
              "      <th>1</th>\n",
              "      <td>Prevalence</td>\n",
              "      <td>Mato Grosso do Sul</td>\n",
              "      <td>Both</td>\n",
              "      <td>All ages</td>\n",
              "      <td>Diabetes mellitus type 2</td>\n",
              "      <td>Percent</td>\n",
              "      <td>1990</td>\n",
              "      <td>0.028682</td>\n",
              "      <td>0.031747</td>\n",
              "      <td>0.025762</td>\n",
              "      <td>2.868202</td>\n",
              "    </tr>\n",
              "    <tr>\n",
              "      <th>4</th>\n",
              "      <td>Prevalence</td>\n",
              "      <td>Mato Grosso do Sul</td>\n",
              "      <td>Both</td>\n",
              "      <td>All ages</td>\n",
              "      <td>Diabetes mellitus type 2</td>\n",
              "      <td>Percent</td>\n",
              "      <td>1991</td>\n",
              "      <td>0.029124</td>\n",
              "      <td>0.032218</td>\n",
              "      <td>0.026150</td>\n",
              "      <td>2.912357</td>\n",
              "    </tr>\n",
              "    <tr>\n",
              "      <th>7</th>\n",
              "      <td>Prevalence</td>\n",
              "      <td>Mato Grosso do Sul</td>\n",
              "      <td>Both</td>\n",
              "      <td>All ages</td>\n",
              "      <td>Diabetes mellitus type 2</td>\n",
              "      <td>Percent</td>\n",
              "      <td>1992</td>\n",
              "      <td>0.029636</td>\n",
              "      <td>0.032689</td>\n",
              "      <td>0.026602</td>\n",
              "      <td>2.963580</td>\n",
              "    </tr>\n",
              "    <tr>\n",
              "      <th>10</th>\n",
              "      <td>Prevalence</td>\n",
              "      <td>Mato Grosso do Sul</td>\n",
              "      <td>Both</td>\n",
              "      <td>All ages</td>\n",
              "      <td>Diabetes mellitus type 2</td>\n",
              "      <td>Percent</td>\n",
              "      <td>1993</td>\n",
              "      <td>0.030186</td>\n",
              "      <td>0.033282</td>\n",
              "      <td>0.027030</td>\n",
              "      <td>3.018603</td>\n",
              "    </tr>\n",
              "    <tr>\n",
              "      <th>13</th>\n",
              "      <td>Prevalence</td>\n",
              "      <td>Mato Grosso do Sul</td>\n",
              "      <td>Both</td>\n",
              "      <td>All ages</td>\n",
              "      <td>Diabetes mellitus type 2</td>\n",
              "      <td>Percent</td>\n",
              "      <td>1994</td>\n",
              "      <td>0.030768</td>\n",
              "      <td>0.034174</td>\n",
              "      <td>0.027368</td>\n",
              "      <td>3.076790</td>\n",
              "    </tr>\n",
              "    <tr>\n",
              "      <th>...</th>\n",
              "      <td>...</td>\n",
              "      <td>...</td>\n",
              "      <td>...</td>\n",
              "      <td>...</td>\n",
              "      <td>...</td>\n",
              "      <td>...</td>\n",
              "      <td>...</td>\n",
              "      <td>...</td>\n",
              "      <td>...</td>\n",
              "      <td>...</td>\n",
              "      <td>...</td>\n",
              "    </tr>\n",
              "    <tr>\n",
              "      <th>2416</th>\n",
              "      <td>Prevalence</td>\n",
              "      <td>Pernambuco</td>\n",
              "      <td>Both</td>\n",
              "      <td>All ages</td>\n",
              "      <td>Diabetes mellitus type 2</td>\n",
              "      <td>Percent</td>\n",
              "      <td>2015</td>\n",
              "      <td>0.057791</td>\n",
              "      <td>0.063796</td>\n",
              "      <td>0.052188</td>\n",
              "      <td>5.779122</td>\n",
              "    </tr>\n",
              "    <tr>\n",
              "      <th>2419</th>\n",
              "      <td>Prevalence</td>\n",
              "      <td>Pernambuco</td>\n",
              "      <td>Both</td>\n",
              "      <td>All ages</td>\n",
              "      <td>Diabetes mellitus type 2</td>\n",
              "      <td>Percent</td>\n",
              "      <td>2016</td>\n",
              "      <td>0.059280</td>\n",
              "      <td>0.064817</td>\n",
              "      <td>0.054081</td>\n",
              "      <td>5.928031</td>\n",
              "    </tr>\n",
              "    <tr>\n",
              "      <th>2422</th>\n",
              "      <td>Prevalence</td>\n",
              "      <td>Pernambuco</td>\n",
              "      <td>Both</td>\n",
              "      <td>All ages</td>\n",
              "      <td>Diabetes mellitus type 2</td>\n",
              "      <td>Percent</td>\n",
              "      <td>2017</td>\n",
              "      <td>0.060508</td>\n",
              "      <td>0.067135</td>\n",
              "      <td>0.054897</td>\n",
              "      <td>6.050776</td>\n",
              "    </tr>\n",
              "    <tr>\n",
              "      <th>2425</th>\n",
              "      <td>Prevalence</td>\n",
              "      <td>Pernambuco</td>\n",
              "      <td>Both</td>\n",
              "      <td>All ages</td>\n",
              "      <td>Diabetes mellitus type 2</td>\n",
              "      <td>Percent</td>\n",
              "      <td>2018</td>\n",
              "      <td>0.061270</td>\n",
              "      <td>0.067231</td>\n",
              "      <td>0.055269</td>\n",
              "      <td>6.127044</td>\n",
              "    </tr>\n",
              "    <tr>\n",
              "      <th>2428</th>\n",
              "      <td>Prevalence</td>\n",
              "      <td>Pernambuco</td>\n",
              "      <td>Both</td>\n",
              "      <td>All ages</td>\n",
              "      <td>Diabetes mellitus type 2</td>\n",
              "      <td>Percent</td>\n",
              "      <td>2019</td>\n",
              "      <td>0.061719</td>\n",
              "      <td>0.068291</td>\n",
              "      <td>0.055137</td>\n",
              "      <td>6.171945</td>\n",
              "    </tr>\n",
              "  </tbody>\n",
              "</table>\n",
              "<p>810 rows × 11 columns</p>\n",
              "</div>"
            ],
            "text/plain": [
              "         measure            location   sex       age  \\\n",
              "1     Prevalence  Mato Grosso do Sul  Both  All ages   \n",
              "4     Prevalence  Mato Grosso do Sul  Both  All ages   \n",
              "7     Prevalence  Mato Grosso do Sul  Both  All ages   \n",
              "10    Prevalence  Mato Grosso do Sul  Both  All ages   \n",
              "13    Prevalence  Mato Grosso do Sul  Both  All ages   \n",
              "...          ...                 ...   ...       ...   \n",
              "2416  Prevalence          Pernambuco  Both  All ages   \n",
              "2419  Prevalence          Pernambuco  Both  All ages   \n",
              "2422  Prevalence          Pernambuco  Both  All ages   \n",
              "2425  Prevalence          Pernambuco  Both  All ages   \n",
              "2428  Prevalence          Pernambuco  Both  All ages   \n",
              "\n",
              "                         cause   metric  year       val     upper     lower  \\\n",
              "1     Diabetes mellitus type 2  Percent  1990  0.028682  0.031747  0.025762   \n",
              "4     Diabetes mellitus type 2  Percent  1991  0.029124  0.032218  0.026150   \n",
              "7     Diabetes mellitus type 2  Percent  1992  0.029636  0.032689  0.026602   \n",
              "10    Diabetes mellitus type 2  Percent  1993  0.030186  0.033282  0.027030   \n",
              "13    Diabetes mellitus type 2  Percent  1994  0.030768  0.034174  0.027368   \n",
              "...                        ...      ...   ...       ...       ...       ...   \n",
              "2416  Diabetes mellitus type 2  Percent  2015  0.057791  0.063796  0.052188   \n",
              "2419  Diabetes mellitus type 2  Percent  2016  0.059280  0.064817  0.054081   \n",
              "2422  Diabetes mellitus type 2  Percent  2017  0.060508  0.067135  0.054897   \n",
              "2425  Diabetes mellitus type 2  Percent  2018  0.061270  0.067231  0.055269   \n",
              "2428  Diabetes mellitus type 2  Percent  2019  0.061719  0.068291  0.055137   \n",
              "\n",
              "      val_percent  \n",
              "1        2.868202  \n",
              "4        2.912357  \n",
              "7        2.963580  \n",
              "10       3.018603  \n",
              "13       3.076790  \n",
              "...           ...  \n",
              "2416     5.779122  \n",
              "2419     5.928031  \n",
              "2422     6.050776  \n",
              "2425     6.127044  \n",
              "2428     6.171945  \n",
              "\n",
              "[810 rows x 11 columns]"
            ]
          },
          "execution_count": 4,
          "metadata": {},
          "output_type": "execute_result"
        }
      ],
      "source": [
        "#filter the dataframe\n",
        "df['val_percent'] = df['val']*100\n",
        "df = df[df['measure']=='Prevalence']\n",
        "df = df[df['age']=='All ages']\n",
        "df = df[df['metric']=='Percent']\n",
        "df"
      ]
    },
    {
      "cell_type": "code",
      "execution_count": 7,
      "metadata": {
        "colab": {
          "base_uri": "https://localhost:8080/",
          "height": 872
        },
        "id": "1iDmPpMboUc4",
        "outputId": "400218aa-939c-4c46-a57e-6e05eee3c297"
      },
      "outputs": [
        {
          "data": {
            "image/png": "[encoded data removed]",
            "text/plain": [
              "<Figure size 1000x1000 with 1 Axes>"
            ]
          },
          "metadata": {},
          "output_type": "display_data"
        }
      ],
      "source": [
        "#plot the data!\n",
        "sns.lineplot(data=df,x='year',y='val_percent',hue='location').set_title('Prevalence of Type 2 Diabetes over Time in Brazil (as a percentage)')\n",
        "plt.legend(ncol=1,\n",
        "           bbox_to_anchor=(1.01, 1), loc='upper left')\n",
        "plt.xlabel('Year')\n",
        "plt.ylabel('Diabetes Prevalence %')\n",
        "plt.show()"
      ]
    },
    {
      "cell_type": "code",
      "execution_count": null,
      "metadata": {
        "id": "IqzfCPCsoUc4"
      },
      "outputs": [],
      "source": []
    },
    {
      "cell_type": "code",
      "execution_count": 13,
      "metadata": {
        "colab": {
          "base_uri": "https://localhost:8080/",
          "height": 542
        },
        "id": "ieHa8GrpoUc4",
        "outputId": "47a7b57b-a033-4806-e2c8-52bfe24cf7fc"
      },
      "outputs": [
        {
          "data": {
            "application/vnd.plotly.v1+json": {
              "config": {
                "plotlyServerURL": "https://plot.ly"
              },
              "data": [
                {
                  "hovertemplate": "location=Mato Grosso do Sul<br>Year=%{x}<br>Diabetes Prevalence %=%{y}<extra></extra>",
                  "legendgroup": "Mato Grosso do Sul",
                  "line": {
                    "color": "#636efa",
                    "dash": "solid"
                  },
                  "marker": {
                    "symbol": "circle"
                  },
                  "mode": "lines",
                  "name": "Mato Grosso do Sul",
                  "orientation": "v",
                  "showlegend": true,
                  "type": "scatter",
                  "x": [
                    1990,
                    1991,
                    1992,
                    1993,
                    1994,
                    1995,
                    1996,
                    1997,
                    1998,
                    1999,
                    2000,
                    2001,
                    2002,
                    2003,
                    2004,
                    2005,
                    2006,
                    2007,
                    2008,
                    2009,
                    2010,
                    2011,
                    2012,
                    2013,
                    2014,
                    2015,
                    2016,
                    2017,
                    2018,
                    2019
                  ],
                  "xaxis": "x",
                  "y": [
                    2.8682016,
                    2.9123569,
                    2.9635798,
                    3.0186029,
                    3.0767903999999997,
                    3.1383083,
                    3.2024294,
                    3.2711357000000003,
                    3.3441514999999997,
                    3.4223424000000002,
                    3.5079529999999997,
                    3.6455674,
                    3.8527605,
                    4.0897441,
                    4.3164961,
                    4.4900167,
                    4.6212045999999996,
                    4.750271,
                    4.8760566,
                    4.9994233,
                    5.1196282,
                    5.2530769,
                    5.408401899999999,
                    5.574592099999999,
                    5.7400755,
                    5.889627900000001,
                    5.9978171,
                    6.1016619,
                    6.2175758,
                    6.3130593
                  ],
                  "yaxis": "y"
                },
                {
                  "hovertemplate": "location=Acre<br>Year=%{x}<br>Diabetes Prevalence %=%{y}<extra></extra>",
                  "legendgroup": "Acre",
                  "line": {
                    "color": "#EF553B",
                    "dash": "solid"
                  },
                  "marker": {
                    "symbol": "circle"
                  },
                  "mode": "lines",
                  "name": "Acre",
                  "orientation": "v",
                  "showlegend": true,
                  "type": "scatter",
                  "x": [
                    1990,
                    1991,
                    1992,
                    1993,
                    1994,
                    1995,
                    1996,
                    1997,
                    1998,
                    1999,
                    2000,
                    2001,
                    2002,
                    2003,
                    2004,
                    2005,
                    2006,
                    2007,
                    2008,
                    2009,
                    2010,
                    2011,
                    2012,
                    2013,
                    2014,
                    2015,
                    2016,
                    2017,
                    2018,
                    2019
                  ],
                  "xaxis": "x",
                  "y": [
                    1.9494327999999999,
                    1.965294,
                    1.9858958,
                    2.0095793,
                    2.03652,
                    2.0665789,
                    2.0968481,
                    2.1309919,
                    2.168295,
                    2.2099089,
                    2.2554187999999997,
                    2.3242655,
                    2.4295796000000003,
                    2.5509049,
                    2.6682595,
                    2.7596506,
                    2.8283385,
                    2.898425,
                    2.9697845000000003,
                    3.0432267,
                    3.1197288,
                    3.2135386,
                    3.334248,
                    3.4690263999999997,
                    3.6052538000000003,
                    3.7275994,
                    3.8440912000000003,
                    3.9459482999999995,
                    4.0127976,
                    4.0513943
                  ],
                  "yaxis": "y"
                },
                {
                  "hovertemplate": "location=Rio de Janeiro<br>Year=%{x}<br>Diabetes Prevalence %=%{y}<extra></extra>",
                  "legendgroup": "Rio de Janeiro",
                  "line": {
                    "color": "#00cc96",
                    "dash": "solid"
                  },
                  "marker": {
                    "symbol": "circle"
                  },
                  "mode": "lines",
                  "name": "Rio de Janeiro",
                  "orientation": "v",
                  "showlegend": true,
                  "type": "scatter",
                  "x": [
                    1990,
                    1991,
                    1992,
                    1993,
                    1994,
                    1995,
                    1996,
                    1997,
                    1998,
                    1999,
                    2000,
                    2001,
                    2002,
                    2003,
                    2004,
                    2005,
                    2006,
                    2007,
                    2008,
                    2009,
                    2010,
                    2011,
                    2012,
                    2013,
                    2014,
                    2015,
                    2016,
                    2017,
                    2018,
                    2019
                  ],
                  "xaxis": "x",
                  "y": [
                    4.2859446000000005,
                    4.2743569,
                    4.2660912,
                    4.2620118,
                    4.265735100000001,
                    4.2828136,
                    4.3042981000000005,
                    4.321787,
                    4.3429573999999995,
                    4.3750813,
                    4.4273521,
                    4.5327164,
                    4.695535,
                    4.886336,
                    5.0734297999999995,
                    5.2230154,
                    5.3438951,
                    5.463608300000001,
                    5.5813717,
                    5.6970871,
                    5.8107609,
                    5.9484767000000005,
                    6.1211727,
                    6.3099046,
                    6.4933822,
                    6.649379800000001,
                    6.7075594,
                    6.737190999999999,
                    6.797284100000001,
                    6.833396899999999
                  ],
                  "yaxis": "y"
                },
                {
                  "hovertemplate": "location=Bahia<br>Year=%{x}<br>Diabetes Prevalence %=%{y}<extra></extra>",
                  "legendgroup": "Bahia",
                  "line": {
                    "color": "#ab63fa",
                    "dash": "solid"
                  },
                  "marker": {
                    "symbol": "circle"
                  },
                  "mode": "lines",
                  "name": "Bahia",
                  "orientation": "v",
                  "showlegend": true,
                  "type": "scatter",
                  "x": [
                    1990,
                    1991,
                    1992,
                    1993,
                    1994,
                    1995,
                    1996,
                    1997,
                    1998,
                    1999,
                    2000,
                    2001,
                    2002,
                    2003,
                    2004,
                    2005,
                    2006,
                    2007,
                    2008,
                    2009,
                    2010,
                    2011,
                    2012,
                    2013,
                    2014,
                    2015,
                    2016,
                    2017,
                    2018,
                    2019
                  ],
                  "xaxis": "x",
                  "y": [
                    2.6577365,
                    2.6557028,
                    2.6623909,
                    2.6784636,
                    2.7063536,
                    2.7469601,
                    2.7987759,
                    2.8582494,
                    2.9239529,
                    2.9949219,
                    3.0683948,
                    3.1725326,
                    3.3213424,
                    3.493626,
                    3.6674456,
                    3.8169624,
                    3.9525781,
                    4.0962209,
                    4.2409192,
                    4.3808922,
                    4.5088522,
                    4.6493079,
                    4.8191024,
                    5.0016868,
                    5.179474600000001,
                    5.3308237,
                    5.4469295,
                    5.5447597,
                    5.6230169000000005,
                    5.6682801
                  ],
                  "yaxis": "y"
                },
                {
                  "hovertemplate": "location=Goiás<br>Year=%{x}<br>Diabetes Prevalence %=%{y}<extra></extra>",
                  "legendgroup": "Goiás",
                  "line": {
                    "color": "#FFA15A",
                    "dash": "solid"
                  },
                  "marker": {
                    "symbol": "circle"
                  },
                  "mode": "lines",
                  "name": "Goiás",
                  "orientation": "v",
                  "showlegend": true,
                  "type": "scatter",
                  "x": [
                    1990,
                    1991,
                    1992,
                    1993,
                    1994,
                    1995,
                    1996,
                    1997,
                    1998,
                    1999,
                    2000,
                    2001,
                    2002,
                    2003,
                    2004,
                    2005,
                    2006,
                    2007,
                    2008,
                    2009,
                    2010,
                    2011,
                    2012,
                    2013,
                    2014,
                    2015,
                    2016,
                    2017,
                    2018,
                    2019
                  ],
                  "xaxis": "x",
                  "y": [
                    2.4360861000000003,
                    2.4523197,
                    2.4727496,
                    2.4972279,
                    2.5265169,
                    2.5612053,
                    2.5981794,
                    2.6377251,
                    2.6811925,
                    2.7307631,
                    2.7877153,
                    2.884601,
                    3.0368756,
                    3.2162383,
                    3.3922217,
                    3.5309361999999997,
                    3.6405196,
                    3.7528114,
                    3.8664087,
                    3.9812162,
                    4.0961076,
                    4.2326913,
                    4.4039105,
                    4.5940459,
                    4.784486,
                    4.9535735999999995,
                    5.0831635,
                    5.1905315,
                    5.2836438,
                    5.3480079
                  ],
                  "yaxis": "y"
                },
                {
                  "hovertemplate": "location=Distrito Federal<br>Year=%{x}<br>Diabetes Prevalence %=%{y}<extra></extra>",
                  "legendgroup": "Distrito Federal",
                  "line": {
                    "color": "#19d3f3",
                    "dash": "solid"
                  },
                  "marker": {
                    "symbol": "circle"
                  },
                  "mode": "lines",
                  "name": "Distrito Federal",
                  "orientation": "v",
                  "showlegend": true,
                  "type": "scatter",
                  "x": [
                    1990,
                    1991,
                    1992,
                    1993,
                    1994,
                    1995,
                    1996,
                    1997,
                    1998,
                    1999,
                    2000,
                    2001,
                    2002,
                    2003,
                    2004,
                    2005,
                    2006,
                    2007,
                    2008,
                    2009,
                    2010,
                    2011,
                    2012,
                    2013,
                    2014,
                    2015,
                    2016,
                    2017,
                    2018,
                    2019
                  ],
                  "xaxis": "x",
                  "y": [
                    2.7907724,
                    2.8185708,
                    2.8488529,
                    2.8817407999999998,
                    2.9187708,
                    2.9610982,
                    3.0046816,
                    3.0472518,
                    3.0930873,
                    3.1477401,
                    3.2157158999999997,
                    3.3322745,
                    3.5098290999999997,
                    3.7189439999999996,
                    3.9275558000000004,
                    4.1000749,
                    4.2408964000000005,
                    4.3773546,
                    4.5074728,
                    4.6317405,
                    4.7516408000000006,
                    4.8660086,
                    4.9771493,
                    5.090272199999999,
                    5.2095025,
                    5.3380033000000005,
                    5.4607788,
                    5.5605949,
                    5.6023438,
                    5.5719106
                  ],
                  "yaxis": "y"
                },
                {
                  "hovertemplate": "location=Piaui<br>Year=%{x}<br>Diabetes Prevalence %=%{y}<extra></extra>",
                  "legendgroup": "Piaui",
                  "line": {
                    "color": "#FF6692",
                    "dash": "solid"
                  },
                  "marker": {
                    "symbol": "circle"
                  },
                  "mode": "lines",
                  "name": "Piaui",
                  "orientation": "v",
                  "showlegend": true,
                  "type": "scatter",
                  "x": [
                    1990,
                    1991,
                    1992,
                    1993,
                    1994,
                    1995,
                    1996,
                    1997,
                    1998,
                    1999,
                    2000,
                    2001,
                    2002,
                    2003,
                    2004,
                    2005,
                    2006,
                    2007,
                    2008,
                    2009,
                    2010,
                    2011,
                    2012,
                    2013,
                    2014,
                    2015,
                    2016,
                    2017,
                    2018,
                    2019
                  ],
                  "xaxis": "x",
                  "y": [
                    2.2890824,
                    2.3237863,
                    2.3633318,
                    2.4064366,
                    2.4553999,
                    2.5115192,
                    2.5742887999999997,
                    2.6390387,
                    2.7057339,
                    2.7758201,
                    2.8490699,
                    2.9620971,
                    3.1307902999999997,
                    3.3280664,
                    3.5259879,
                    3.6919215,
                    3.8297192,
                    3.9644824,
                    4.0975526,
                    4.2301421999999995,
                    4.3640292999999994,
                    4.5215908,
                    4.7095408999999995,
                    4.9115543,
                    5.109725,
                    5.2823668,
                    5.4606975,
                    5.6074697,
                    5.681595,
                    5.712942
                  ],
                  "yaxis": "y"
                },
                {
                  "hovertemplate": "location=Espírito Santo<br>Year=%{x}<br>Diabetes Prevalence %=%{y}<extra></extra>",
                  "legendgroup": "Espírito Santo",
                  "line": {
                    "color": "#B6E880",
                    "dash": "solid"
                  },
                  "marker": {
                    "symbol": "circle"
                  },
                  "mode": "lines",
                  "name": "Espírito Santo",
                  "orientation": "v",
                  "showlegend": true,
                  "type": "scatter",
                  "x": [
                    1990,
                    1991,
                    1992,
                    1993,
                    1994,
                    1995,
                    1996,
                    1997,
                    1998,
                    1999,
                    2000,
                    2001,
                    2002,
                    2003,
                    2004,
                    2005,
                    2006,
                    2007,
                    2008,
                    2009,
                    2010,
                    2011,
                    2012,
                    2013,
                    2014,
                    2015,
                    2016,
                    2017,
                    2018,
                    2019
                  ],
                  "xaxis": "x",
                  "y": [
                    2.5855903,
                    2.6210472,
                    2.6602886999999997,
                    2.7011634,
                    2.7445463,
                    2.7918732000000004,
                    2.8407003,
                    2.8905589,
                    2.9420724999999996,
                    2.9976214,
                    3.0618882,
                    3.1754314,
                    3.3533441999999996,
                    3.5616344,
                    3.7645396,
                    3.9233334,
                    4.045461899999999,
                    4.1639681,
                    4.2798495,
                    4.394997,
                    4.5120985000000005,
                    4.6572246,
                    4.84031,
                    5.0419184999999995,
                    5.2406686,
                    5.4111806,
                    5.5478094,
                    5.6581905,
                    5.7403536,
                    5.791153
                  ],
                  "yaxis": "y"
                },
                {
                  "hovertemplate": "location=Rio Grande do Norte<br>Year=%{x}<br>Diabetes Prevalence %=%{y}<extra></extra>",
                  "legendgroup": "Rio Grande do Norte",
                  "line": {
                    "color": "#FF97FF",
                    "dash": "solid"
                  },
                  "marker": {
                    "symbol": "circle"
                  },
                  "mode": "lines",
                  "name": "Rio Grande do Norte",
                  "orientation": "v",
                  "showlegend": true,
                  "type": "scatter",
                  "x": [
                    1990,
                    1991,
                    1992,
                    1993,
                    1994,
                    1995,
                    1996,
                    1997,
                    1998,
                    1999,
                    2000,
                    2001,
                    2002,
                    2003,
                    2004,
                    2005,
                    2006,
                    2007,
                    2008,
                    2009,
                    2010,
                    2011,
                    2012,
                    2013,
                    2014,
                    2015,
                    2016,
                    2017,
                    2018,
                    2019
                  ],
                  "xaxis": "x",
                  "y": [
                    3.0797589,
                    3.089922,
                    3.1038941,
                    3.1217368999999997,
                    3.1456606,
                    3.1772722000000004,
                    3.2162171,
                    3.2591769,
                    3.3060124,
                    3.3583602999999997,
                    3.4176403,
                    3.5197626000000004,
                    3.6773565,
                    3.8619426999999997,
                    4.0441012999999995,
                    4.1906932,
                    4.3094815,
                    4.4272746000000005,
                    4.545919,
                    4.6677515000000005,
                    4.7935896,
                    4.9513433000000004,
                    5.1496627,
                    5.3673705,
                    5.5808988,
                    5.7629977,
                    5.915603,
                    6.0489850999999994,
                    6.1524145,
                    6.223836
                  ],
                  "yaxis": "y"
                },
                {
                  "hovertemplate": "location=Mato Grosso<br>Year=%{x}<br>Diabetes Prevalence %=%{y}<extra></extra>",
                  "legendgroup": "Mato Grosso",
                  "line": {
                    "color": "#FECB52",
                    "dash": "solid"
                  },
                  "marker": {
                    "symbol": "circle"
                  },
                  "mode": "lines",
                  "name": "Mato Grosso",
                  "orientation": "v",
                  "showlegend": true,
                  "type": "scatter",
                  "x": [
                    1990,
                    1991,
                    1992,
                    1993,
                    1994,
                    1995,
                    1996,
                    1997,
                    1998,
                    1999,
                    2000,
                    2001,
                    2002,
                    2003,
                    2004,
                    2005,
                    2006,
                    2007,
                    2008,
                    2009,
                    2010,
                    2011,
                    2012,
                    2013,
                    2014,
                    2015,
                    2016,
                    2017,
                    2018,
                    2019
                  ],
                  "xaxis": "x",
                  "y": [
                    2.0712988,
                    2.1136928,
                    2.1596371,
                    2.2088938999999996,
                    2.2613281,
                    2.3161053000000003,
                    2.3726420000000004,
                    2.4305995,
                    2.4907307,
                    2.5547653,
                    2.6251575,
                    2.7331209,
                    2.8909301,
                    3.0727591,
                    3.2507403,
                    3.3940689,
                    3.5082217,
                    3.6201099,
                    3.7305713,
                    3.8417571999999995,
                    3.9570474,
                    4.0997356,
                    4.2796872,
                    4.4807017,
                    4.683624,
                    4.8655165,
                    5.0370539999999995,
                    5.1914236,
                    5.3032585,
                    5.3785008
                  ],
                  "yaxis": "y"
                },
                {
                  "hovertemplate": "location=Santa Catarina<br>Year=%{x}<br>Diabetes Prevalence %=%{y}<extra></extra>",
                  "legendgroup": "Santa Catarina",
                  "line": {
                    "color": "#636efa",
                    "dash": "solid"
                  },
                  "marker": {
                    "symbol": "circle"
                  },
                  "mode": "lines",
                  "name": "Santa Catarina",
                  "orientation": "v",
                  "showlegend": true,
                  "type": "scatter",
                  "x": [
                    1990,
                    1991,
                    1992,
                    1993,
                    1994,
                    1995,
                    1996,
                    1997,
                    1998,
                    1999,
                    2000,
                    2001,
                    2002,
                    2003,
                    2004,
                    2005,
                    2006,
                    2007,
                    2008,
                    2009,
                    2010,
                    2011,
                    2012,
                    2013,
                    2014,
                    2015,
                    2016,
                    2017,
                    2018,
                    2019
                  ],
                  "xaxis": "x",
                  "y": [
                    2.5977259999999998,
                    2.6269475,
                    2.659383,
                    2.6930774,
                    2.7294154,
                    2.7693721,
                    2.8132664000000003,
                    2.8545597,
                    2.8966255,
                    2.943925,
                    3.0018358,
                    3.1117619999999997,
                    3.2814662,
                    3.4779828999999998,
                    3.6662497000000003,
                    3.8094348,
                    3.9157757,
                    4.0109683,
                    4.100440000000001,
                    4.1919884,
                    4.2944298,
                    4.4383429,
                    4.6258644,
                    4.836403000000001,
                    5.0459337,
                    5.2277320000000005,
                    5.3836638,
                    5.5096386,
                    5.5976731,
                    5.6587542
                  ],
                  "yaxis": "y"
                },
                {
                  "hovertemplate": "location=Alagoas<br>Year=%{x}<br>Diabetes Prevalence %=%{y}<extra></extra>",
                  "legendgroup": "Alagoas",
                  "line": {
                    "color": "#EF553B",
                    "dash": "solid"
                  },
                  "marker": {
                    "symbol": "circle"
                  },
                  "mode": "lines",
                  "name": "Alagoas",
                  "orientation": "v",
                  "showlegend": true,
                  "type": "scatter",
                  "x": [
                    1990,
                    1991,
                    1992,
                    1993,
                    1994,
                    1995,
                    1996,
                    1997,
                    1998,
                    1999,
                    2000,
                    2001,
                    2002,
                    2003,
                    2004,
                    2005,
                    2006,
                    2007,
                    2008,
                    2009,
                    2010,
                    2011,
                    2012,
                    2013,
                    2014,
                    2015,
                    2016,
                    2017,
                    2018,
                    2019
                  ],
                  "xaxis": "x",
                  "y": [
                    2.8758286,
                    2.8852998000000003,
                    2.9022003,
                    2.9257085,
                    2.9568045,
                    2.9952272,
                    3.0416609,
                    3.0930575,
                    3.1494158000000003,
                    3.2125997,
                    3.2841310999999997,
                    3.4123466999999996,
                    3.6146452000000004,
                    3.8535878,
                    4.0885932,
                    4.2745334,
                    4.4203799,
                    4.5602288,
                    4.6965854,
                    4.8328663,
                    4.971822,
                    5.1433166,
                    5.3548532,
                    5.5824663,
                    5.7999389,
                    5.9771589,
                    6.0940806,
                    6.1834896,
                    6.2579796,
                    6.2961793
                  ],
                  "yaxis": "y"
                },
                {
                  "hovertemplate": "location=Paraná<br>Year=%{x}<br>Diabetes Prevalence %=%{y}<extra></extra>",
                  "legendgroup": "Paraná",
                  "line": {
                    "color": "#00cc96",
                    "dash": "solid"
                  },
                  "marker": {
                    "symbol": "circle"
                  },
                  "mode": "lines",
                  "name": "Paraná",
                  "orientation": "v",
                  "showlegend": true,
                  "type": "scatter",
                  "x": [
                    1990,
                    1991,
                    1992,
                    1993,
                    1994,
                    1995,
                    1996,
                    1997,
                    1998,
                    1999,
                    2000,
                    2001,
                    2002,
                    2003,
                    2004,
                    2005,
                    2006,
                    2007,
                    2008,
                    2009,
                    2010,
                    2011,
                    2012,
                    2013,
                    2014,
                    2015,
                    2016,
                    2017,
                    2018,
                    2019
                  ],
                  "xaxis": "x",
                  "y": [
                    2.6333064,
                    2.6723135,
                    2.7137192,
                    2.7564671,
                    2.8023372,
                    2.8530081,
                    2.9052360999999998,
                    2.9580078999999997,
                    3.0144098,
                    3.0778871,
                    3.1518395999999997,
                    3.2819744999999996,
                    3.4868661000000003,
                    3.7267302000000004,
                    3.9587911000000005,
                    4.136597699999999,
                    4.2671573,
                    4.3915647,
                    4.5129648,
                    4.6357936,
                    4.7648172,
                    4.9262621,
                    5.131043099999999,
                    5.3585184,
                    5.5864082,
                    5.7880547,
                    5.9398501,
                    6.0673793,
                    6.1767922,
                    6.2399832
                  ],
                  "yaxis": "y"
                },
                {
                  "hovertemplate": "location=Amapá<br>Year=%{x}<br>Diabetes Prevalence %=%{y}<extra></extra>",
                  "legendgroup": "Amapá",
                  "line": {
                    "color": "#ab63fa",
                    "dash": "solid"
                  },
                  "marker": {
                    "symbol": "circle"
                  },
                  "mode": "lines",
                  "name": "Amapá",
                  "orientation": "v",
                  "showlegend": true,
                  "type": "scatter",
                  "x": [
                    1990,
                    1991,
                    1992,
                    1993,
                    1994,
                    1995,
                    1996,
                    1997,
                    1998,
                    1999,
                    2000,
                    2001,
                    2002,
                    2003,
                    2004,
                    2005,
                    2006,
                    2007,
                    2008,
                    2009,
                    2010,
                    2011,
                    2012,
                    2013,
                    2014,
                    2015,
                    2016,
                    2017,
                    2018,
                    2019
                  ],
                  "xaxis": "x",
                  "y": [
                    1.7305903,
                    1.7364334,
                    1.7425545,
                    1.7491554999999999,
                    1.7568275000000002,
                    1.7660050999999999,
                    1.776008,
                    1.7877500000000002,
                    1.8031888999999999,
                    1.8243195,
                    1.8529133999999998,
                    1.9070265999999998,
                    1.9939793000000001,
                    2.0990428,
                    2.2066847000000003,
                    2.2992131,
                    2.378667,
                    2.4595224,
                    2.5413058,
                    2.6246088,
                    2.7102125,
                    2.8142308000000003,
                    2.9453112999999997,
                    3.0914102999999997,
                    3.2391067000000002,
                    3.372519,
                    3.5260241,
                    3.6632540999999996,
                    3.7355993999999995,
                    3.7721846
                  ],
                  "yaxis": "y"
                },
                {
                  "hovertemplate": "location=Amazonas<br>Year=%{x}<br>Diabetes Prevalence %=%{y}<extra></extra>",
                  "legendgroup": "Amazonas",
                  "line": {
                    "color": "#FFA15A",
                    "dash": "solid"
                  },
                  "marker": {
                    "symbol": "circle"
                  },
                  "mode": "lines",
                  "name": "Amazonas",
                  "orientation": "v",
                  "showlegend": true,
                  "type": "scatter",
                  "x": [
                    1990,
                    1991,
                    1992,
                    1993,
                    1994,
                    1995,
                    1996,
                    1997,
                    1998,
                    1999,
                    2000,
                    2001,
                    2002,
                    2003,
                    2004,
                    2005,
                    2006,
                    2007,
                    2008,
                    2009,
                    2010,
                    2011,
                    2012,
                    2013,
                    2014,
                    2015,
                    2016,
                    2017,
                    2018,
                    2019
                  ],
                  "xaxis": "x",
                  "y": [
                    1.8719632,
                    1.8818962000000001,
                    1.8947409,
                    1.9092876,
                    1.9257947000000002,
                    1.9453595000000001,
                    1.9657491999999999,
                    1.9854007999999999,
                    2.0062263000000002,
                    2.0305285,
                    2.0615097,
                    2.1251336999999997,
                    2.2309261,
                    2.3584026000000002,
                    2.4852743999999998,
                    2.5879767,
                    2.671977,
                    2.7574994,
                    2.8444301000000003,
                    2.9328823,
                    3.024111,
                    3.136262,
                    3.2773537999999998,
                    3.4346617000000004,
                    3.5929920999999996,
                    3.734922,
                    3.8759968999999996,
                    3.9977748,
                    4.0740495,
                    4.1183026
                  ],
                  "yaxis": "y"
                },
                {
                  "hovertemplate": "location=Rio Grande do Sul<br>Year=%{x}<br>Diabetes Prevalence %=%{y}<extra></extra>",
                  "legendgroup": "Rio Grande do Sul",
                  "line": {
                    "color": "#19d3f3",
                    "dash": "solid"
                  },
                  "marker": {
                    "symbol": "circle"
                  },
                  "mode": "lines",
                  "name": "Rio Grande do Sul",
                  "orientation": "v",
                  "showlegend": true,
                  "type": "scatter",
                  "x": [
                    1990,
                    1991,
                    1992,
                    1993,
                    1994,
                    1995,
                    1996,
                    1997,
                    1998,
                    1999,
                    2000,
                    2001,
                    2002,
                    2003,
                    2004,
                    2005,
                    2006,
                    2007,
                    2008,
                    2009,
                    2010,
                    2011,
                    2012,
                    2013,
                    2014,
                    2015,
                    2016,
                    2017,
                    2018,
                    2019
                  ],
                  "xaxis": "x",
                  "y": [
                    2.9455565,
                    3.0577647999999997,
                    3.1597451,
                    3.247247,
                    3.3203858000000004,
                    3.3804956999999995,
                    3.412096,
                    3.4128220000000002,
                    3.4013400999999996,
                    3.4006946000000005,
                    3.4380965999999997,
                    3.5460553999999997,
                    3.7151376,
                    3.9107369000000003,
                    4.0967929,
                    4.2353118,
                    4.3261346,
                    4.3986331,
                    4.4625693,
                    4.5307815,
                    4.6173276,
                    4.7662031,
                    4.9861714,
                    5.2410354,
                    5.4927576,
                    5.6992868,
                    5.8619758,
                    5.9934313,
                    6.0792882,
                    6.1253322
                  ],
                  "yaxis": "y"
                },
                {
                  "hovertemplate": "location=Tocantins<br>Year=%{x}<br>Diabetes Prevalence %=%{y}<extra></extra>",
                  "legendgroup": "Tocantins",
                  "line": {
                    "color": "#FF6692",
                    "dash": "solid"
                  },
                  "marker": {
                    "symbol": "circle"
                  },
                  "mode": "lines",
                  "name": "Tocantins",
                  "orientation": "v",
                  "showlegend": true,
                  "type": "scatter",
                  "x": [
                    1990,
                    1991,
                    1992,
                    1993,
                    1994,
                    1995,
                    1996,
                    1997,
                    1998,
                    1999,
                    2000,
                    2001,
                    2002,
                    2003,
                    2004,
                    2005,
                    2006,
                    2007,
                    2008,
                    2009,
                    2010,
                    2011,
                    2012,
                    2013,
                    2014,
                    2015,
                    2016,
                    2017,
                    2018,
                    2019
                  ],
                  "xaxis": "x",
                  "y": [
                    2.2133434,
                    2.2397683,
                    2.2677292000000002,
                    2.2984921,
                    2.3330584,
                    2.3709252,
                    2.4100608,
                    2.4486773,
                    2.4899001,
                    2.536432,
                    2.5903722,
                    2.6812361,
                    2.8199905000000003,
                    2.9828764,
                    3.1450934,
                    3.2787154,
                    3.3862402,
                    3.4903324,
                    3.5936247,
                    3.6986085,
                    3.8072977,
                    3.9412861,
                    4.1092152,
                    4.2931133,
                    4.4730012,
                    4.6283531,
                    4.796276,
                    4.9406195,
                    5.0137889,
                    5.0490051000000005
                  ],
                  "yaxis": "y"
                },
                {
                  "hovertemplate": "location=Paraíba<br>Year=%{x}<br>Diabetes Prevalence %=%{y}<extra></extra>",
                  "legendgroup": "Paraíba",
                  "line": {
                    "color": "#B6E880",
                    "dash": "solid"
                  },
                  "marker": {
                    "symbol": "circle"
                  },
                  "mode": "lines",
                  "name": "Paraíba",
                  "orientation": "v",
                  "showlegend": true,
                  "type": "scatter",
                  "x": [
                    1990,
                    1991,
                    1992,
                    1993,
                    1994,
                    1995,
                    1996,
                    1997,
                    1998,
                    1999,
                    2000,
                    2001,
                    2002,
                    2003,
                    2004,
                    2005,
                    2006,
                    2007,
                    2008,
                    2009,
                    2010,
                    2011,
                    2012,
                    2013,
                    2014,
                    2015,
                    2016,
                    2017,
                    2018,
                    2019
                  ],
                  "xaxis": "x",
                  "y": [
                    3.2690943,
                    3.2782338,
                    3.2959969,
                    3.3212758,
                    3.3544723,
                    3.3945606,
                    3.4403624,
                    3.4920237,
                    3.5498173,
                    3.6154087,
                    3.6875083,
                    3.8137161,
                    4.014719299999999,
                    4.249174399999999,
                    4.4748753,
                    4.644246,
                    4.7664235,
                    4.8835372,
                    4.9970912,
                    5.111297,
                    5.2277705,
                    5.3782983,
                    5.5765099,
                    5.7961803,
                    6.0103317,
                    6.1852871,
                    6.3129312,
                    6.4104396999999995,
                    6.4775927,
                    6.5128413
                  ],
                  "yaxis": "y"
                },
                {
                  "hovertemplate": "location=São Paulo<br>Year=%{x}<br>Diabetes Prevalence %=%{y}<extra></extra>",
                  "legendgroup": "São Paulo",
                  "line": {
                    "color": "#FF97FF",
                    "dash": "solid"
                  },
                  "marker": {
                    "symbol": "circle"
                  },
                  "mode": "lines",
                  "name": "São Paulo",
                  "orientation": "v",
                  "showlegend": true,
                  "type": "scatter",
                  "x": [
                    1990,
                    1991,
                    1992,
                    1993,
                    1994,
                    1995,
                    1996,
                    1997,
                    1998,
                    1999,
                    2000,
                    2001,
                    2002,
                    2003,
                    2004,
                    2005,
                    2006,
                    2007,
                    2008,
                    2009,
                    2010,
                    2011,
                    2012,
                    2013,
                    2014,
                    2015,
                    2016,
                    2017,
                    2018,
                    2019
                  ],
                  "xaxis": "x",
                  "y": [
                    3.6421086,
                    3.6817055,
                    3.7205646000000003,
                    3.7575689000000003,
                    3.7945887,
                    3.8335186,
                    3.8606002,
                    3.8674302000000003,
                    3.8701327,
                    3.8844461,
                    3.9270759,
                    4.0228369,
                    4.1632836,
                    4.3232335,
                    4.475667,
                    4.5912438,
                    4.6699165,
                    4.7335259,
                    4.7920865,
                    4.8560148,
                    4.9367469999999996,
                    5.0453075,
                    5.1739033,
                    5.3123322,
                    5.449555200000001,
                    5.5735766,
                    5.6652633,
                    5.7652589,
                    5.8861489,
                    5.9967051
                  ],
                  "yaxis": "y"
                },
                {
                  "hovertemplate": "location=Minas Gerais<br>Year=%{x}<br>Diabetes Prevalence %=%{y}<extra></extra>",
                  "legendgroup": "Minas Gerais",
                  "line": {
                    "color": "#FECB52",
                    "dash": "solid"
                  },
                  "marker": {
                    "symbol": "circle"
                  },
                  "mode": "lines",
                  "name": "Minas Gerais",
                  "orientation": "v",
                  "showlegend": true,
                  "type": "scatter",
                  "x": [
                    1990,
                    1991,
                    1992,
                    1993,
                    1994,
                    1995,
                    1996,
                    1997,
                    1998,
                    1999,
                    2000,
                    2001,
                    2002,
                    2003,
                    2004,
                    2005,
                    2006,
                    2007,
                    2008,
                    2009,
                    2010,
                    2011,
                    2012,
                    2013,
                    2014,
                    2015,
                    2016,
                    2017,
                    2018,
                    2019
                  ],
                  "xaxis": "x",
                  "y": [
                    2.6453899,
                    2.6097786000000003,
                    2.5788069,
                    2.5545048,
                    2.5408451,
                    2.5415518,
                    2.5459641,
                    2.5455669,
                    2.5481261,
                    2.5627827,
                    2.5984233,
                    2.6941849,
                    2.8598361999999997,
                    3.0603838000000003,
                    3.2576687,
                    3.4094526,
                    3.5223771,
                    3.6326266000000005,
                    3.7428906,
                    3.8556571999999996,
                    3.9728798000000003,
                    4.126556,
                    4.3295623,
                    4.5565370000000005,
                    4.7789605,
                    4.9634327,
                    5.107551,
                    5.2261306,
                    5.3075153,
                    5.3438551
                  ],
                  "yaxis": "y"
                },
                {
                  "hovertemplate": "location=Roraima<br>Year=%{x}<br>Diabetes Prevalence %=%{y}<extra></extra>",
                  "legendgroup": "Roraima",
                  "line": {
                    "color": "#636efa",
                    "dash": "solid"
                  },
                  "marker": {
                    "symbol": "circle"
                  },
                  "mode": "lines",
                  "name": "Roraima",
                  "orientation": "v",
                  "showlegend": true,
                  "type": "scatter",
                  "x": [
                    1990,
                    1991,
                    1992,
                    1993,
                    1994,
                    1995,
                    1996,
                    1997,
                    1998,
                    1999,
                    2000,
                    2001,
                    2002,
                    2003,
                    2004,
                    2005,
                    2006,
                    2007,
                    2008,
                    2009,
                    2010,
                    2011,
                    2012,
                    2013,
                    2014,
                    2015,
                    2016,
                    2017,
                    2018,
                    2019
                  ],
                  "xaxis": "x",
                  "y": [
                    2.0556986,
                    2.0634251999999997,
                    2.0774024,
                    2.0964884,
                    2.1200204,
                    2.1467461,
                    2.1754237,
                    2.2029601999999997,
                    2.2322741,
                    2.267806,
                    2.3122585,
                    2.4012812,
                    2.5458794,
                    2.7181848,
                    2.888726,
                    3.0225698,
                    3.122786,
                    3.2148957,
                    3.3048463,
                    3.3990792,
                    3.5035424,
                    3.6291783,
                    3.7721677000000002,
                    3.9260474,
                    4.083808299999999,
                    4.2352356,
                    4.4096623,
                    4.5659024,
                    4.6636246,
                    4.7309149
                  ],
                  "yaxis": "y"
                },
                {
                  "hovertemplate": "location=Ceará<br>Year=%{x}<br>Diabetes Prevalence %=%{y}<extra></extra>",
                  "legendgroup": "Ceará",
                  "line": {
                    "color": "#EF553B",
                    "dash": "solid"
                  },
                  "marker": {
                    "symbol": "circle"
                  },
                  "mode": "lines",
                  "name": "Ceará",
                  "orientation": "v",
                  "showlegend": true,
                  "type": "scatter",
                  "x": [
                    1990,
                    1991,
                    1992,
                    1993,
                    1994,
                    1995,
                    1996,
                    1997,
                    1998,
                    1999,
                    2000,
                    2001,
                    2002,
                    2003,
                    2004,
                    2005,
                    2006,
                    2007,
                    2008,
                    2009,
                    2010,
                    2011,
                    2012,
                    2013,
                    2014,
                    2015,
                    2016,
                    2017,
                    2018,
                    2019
                  ],
                  "xaxis": "x",
                  "y": [
                    2.3786242,
                    2.4044427,
                    2.4342184,
                    2.4662861,
                    2.500033,
                    2.5353712,
                    2.5747831999999997,
                    2.6195079,
                    2.6692112,
                    2.7242382,
                    2.7838838,
                    2.886411,
                    3.0480802000000002,
                    3.2371882,
                    3.4217277,
                    3.5665187,
                    3.6777105,
                    3.7857965,
                    3.8920855,
                    3.9992535000000005,
                    4.11021,
                    4.2453443,
                    4.4112941,
                    4.592324,
                    4.7698445,
                    4.9217619,
                    5.0594676,
                    5.1687783000000005,
                    5.230494,
                    5.2583349
                  ],
                  "yaxis": "y"
                },
                {
                  "hovertemplate": "location=Pará<br>Year=%{x}<br>Diabetes Prevalence %=%{y}<extra></extra>",
                  "legendgroup": "Pará",
                  "line": {
                    "color": "#00cc96",
                    "dash": "solid"
                  },
                  "marker": {
                    "symbol": "circle"
                  },
                  "mode": "lines",
                  "name": "Pará",
                  "orientation": "v",
                  "showlegend": true,
                  "type": "scatter",
                  "x": [
                    1990,
                    1991,
                    1992,
                    1993,
                    1994,
                    1995,
                    1996,
                    1997,
                    1998,
                    1999,
                    2000,
                    2001,
                    2002,
                    2003,
                    2004,
                    2005,
                    2006,
                    2007,
                    2008,
                    2009,
                    2010,
                    2011,
                    2012,
                    2013,
                    2014,
                    2015,
                    2016,
                    2017,
                    2018,
                    2019
                  ],
                  "xaxis": "x",
                  "y": [
                    2.0106356,
                    2.0242151,
                    2.0426155,
                    2.0649917,
                    2.0913682,
                    2.1221962,
                    2.1568833,
                    2.1941995999999997,
                    2.2341859,
                    2.277434,
                    2.3250417,
                    2.4073831,
                    2.5367344,
                    2.6887504,
                    2.8379543,
                    2.9577078,
                    3.0548855,
                    3.1520343,
                    3.2485219,
                    3.3447594999999994,
                    3.4409080000000003,
                    3.5547145,
                    3.6939969,
                    3.8453649,
                    3.9942474,
                    4.1244579,
                    4.2412243,
                    4.343027,
                    4.4180852,
                    4.4695822000000005
                  ],
                  "yaxis": "y"
                },
                {
                  "hovertemplate": "location=Maranhão<br>Year=%{x}<br>Diabetes Prevalence %=%{y}<extra></extra>",
                  "legendgroup": "Maranhão",
                  "line": {
                    "color": "#ab63fa",
                    "dash": "solid"
                  },
                  "marker": {
                    "symbol": "circle"
                  },
                  "mode": "lines",
                  "name": "Maranhão",
                  "orientation": "v",
                  "showlegend": true,
                  "type": "scatter",
                  "x": [
                    1990,
                    1991,
                    1992,
                    1993,
                    1994,
                    1995,
                    1996,
                    1997,
                    1998,
                    1999,
                    2000,
                    2001,
                    2002,
                    2003,
                    2004,
                    2005,
                    2006,
                    2007,
                    2008,
                    2009,
                    2010,
                    2011,
                    2012,
                    2013,
                    2014,
                    2015,
                    2016,
                    2017,
                    2018,
                    2019
                  ],
                  "xaxis": "x",
                  "y": [
                    2.6073419,
                    2.6136769,
                    2.6248703,
                    2.6405572,
                    2.6622983,
                    2.6898819,
                    2.7201586,
                    2.7508529,
                    2.7848063,
                    2.8264867999999996,
                    2.8782024,
                    2.9718132,
                    3.1183272,
                    3.2906705,
                    3.4615319999999996,
                    3.5992881999999997,
                    3.7078244000000002,
                    3.8124032000000003,
                    3.9128621000000003,
                    4.0100362,
                    4.102903599999999,
                    4.2042136,
                    4.3223762,
                    4.4488552,
                    4.5689931,
                    4.6656085,
                    4.7547857,
                    4.8308069,
                    4.8727181,
                    4.8930103
                  ],
                  "yaxis": "y"
                },
                {
                  "hovertemplate": "location=Rondônia<br>Year=%{x}<br>Diabetes Prevalence %=%{y}<extra></extra>",
                  "legendgroup": "Rondônia",
                  "line": {
                    "color": "#FFA15A",
                    "dash": "solid"
                  },
                  "marker": {
                    "symbol": "circle"
                  },
                  "mode": "lines",
                  "name": "Rondônia",
                  "orientation": "v",
                  "showlegend": true,
                  "type": "scatter",
                  "x": [
                    1990,
                    1991,
                    1992,
                    1993,
                    1994,
                    1995,
                    1996,
                    1997,
                    1998,
                    1999,
                    2000,
                    2001,
                    2002,
                    2003,
                    2004,
                    2005,
                    2006,
                    2007,
                    2008,
                    2009,
                    2010,
                    2011,
                    2012,
                    2013,
                    2014,
                    2015,
                    2016,
                    2017,
                    2018,
                    2019
                  ],
                  "xaxis": "x",
                  "y": [
                    2.1058053,
                    2.142936,
                    2.1853144,
                    2.2317812,
                    2.2816416999999998,
                    2.3339192,
                    2.3877234,
                    2.4408033,
                    2.4955462,
                    2.5554642999999997,
                    2.6246769999999997,
                    2.7445841,
                    2.9269624000000003,
                    3.1382098999999997,
                    3.3422735,
                    3.4995677,
                    3.6111136000000004,
                    3.7060996999999998,
                    3.7928832000000003,
                    3.8831892999999997,
                    3.9911894000000006,
                    4.1291735,
                    4.2882266,
                    4.460043000000001,
                    4.6350852,
                    4.801324,
                    4.9487945,
                    5.0808105999999995,
                    5.1948362,
                    5.2733199
                  ],
                  "yaxis": "y"
                },
                {
                  "hovertemplate": "location=Sergipe<br>Year=%{x}<br>Diabetes Prevalence %=%{y}<extra></extra>",
                  "legendgroup": "Sergipe",
                  "line": {
                    "color": "#19d3f3",
                    "dash": "solid"
                  },
                  "marker": {
                    "symbol": "circle"
                  },
                  "mode": "lines",
                  "name": "Sergipe",
                  "orientation": "v",
                  "showlegend": true,
                  "type": "scatter",
                  "x": [
                    1990,
                    1991,
                    1992,
                    1993,
                    1994,
                    1995,
                    1996,
                    1997,
                    1998,
                    1999,
                    2000,
                    2001,
                    2002,
                    2003,
                    2004,
                    2005,
                    2006,
                    2007,
                    2008,
                    2009,
                    2010,
                    2011,
                    2012,
                    2013,
                    2014,
                    2015,
                    2016,
                    2017,
                    2018,
                    2019
                  ],
                  "xaxis": "x",
                  "y": [
                    3.1175218,
                    3.1181463,
                    3.125734,
                    3.1392517,
                    3.1605009,
                    3.1886355999999996,
                    3.2188413,
                    3.2518381,
                    3.288915,
                    3.3338711,
                    3.3917341,
                    3.4907902999999996,
                    3.6393153999999996,
                    3.8108208999999995,
                    3.9789891,
                    4.1135378,
                    4.2179949,
                    4.3188208999999995,
                    4.418999400000001,
                    4.5235001,
                    4.6363223,
                    4.7851272,
                    4.978807,
                    5.1944177,
                    5.4078755,
                    5.58934,
                    5.7371186,
                    5.870399,
                    5.9851233,
                    6.072121500000001
                  ],
                  "yaxis": "y"
                },
                {
                  "hovertemplate": "location=Pernambuco<br>Year=%{x}<br>Diabetes Prevalence %=%{y}<extra></extra>",
                  "legendgroup": "Pernambuco",
                  "line": {
                    "color": "#FF6692",
                    "dash": "solid"
                  },
                  "marker": {
                    "symbol": "circle"
                  },
                  "mode": "lines",
                  "name": "Pernambuco",
                  "orientation": "v",
                  "showlegend": true,
                  "type": "scatter",
                  "x": [
                    1990,
                    1991,
                    1992,
                    1993,
                    1994,
                    1995,
                    1996,
                    1997,
                    1998,
                    1999,
                    2000,
                    2001,
                    2002,
                    2003,
                    2004,
                    2005,
                    2006,
                    2007,
                    2008,
                    2009,
                    2010,
                    2011,
                    2012,
                    2013,
                    2014,
                    2015,
                    2016,
                    2017,
                    2018,
                    2019
                  ],
                  "xaxis": "x",
                  "y": [
                    3.1805751,
                    3.2112083,
                    3.2471462,
                    3.2851189000000005,
                    3.3253259,
                    3.3666137999999997,
                    3.4098096,
                    3.4551921,
                    3.5030955,
                    3.5570564,
                    3.6169821,
                    3.7233698000000004,
                    3.8899906,
                    4.0828218,
                    4.2677908,
                    4.4054251,
                    4.5065028,
                    4.604106799999999,
                    4.7001042,
                    4.7978395,
                    4.8981501,
                    5.0315369,
                    5.2095706999999996,
                    5.4106038000000005,
                    5.6108048,
                    5.7791216,
                    5.928030799999999,
                    6.050775600000001,
                    6.1270443,
                    6.1719453
                  ],
                  "yaxis": "y"
                }
              ],
              "layout": {
                "legend": {
                  "title": {
                    "text": "location"
                  },
                  "tracegroupgap": 0
                },
                "paper_bgcolor": "black",
                "plot_bgcolor": "black",
                "template": {
                  "data": {
                    "bar": [
                      {
                        "error_x": {
                          "color": "#f2f5fa"
                        },
                        "error_y": {
                          "color": "#f2f5fa"
                        },
                        "marker": {
                          "line": {
                            "color": "rgb(17,17,17)",
                            "width": 0.5
                          },
                          "pattern": {
                            "fillmode": "overlay",
                            "size": 10,
                            "solidity": 0.2
                          }
                        },
                        "type": "bar"
                      }
                    ],
                    "barpolar": [
                      {
                        "marker": {
                          "line": {
                            "color": "rgb(17,17,17)",
                            "width": 0.5
                          },
                          "pattern": {
                            "fillmode": "overlay",
                            "size": 10,
                            "solidity": 0.2
                          }
                        },
                        "type": "barpolar"
                      }
                    ],
                    "carpet": [
                      {
                        "aaxis": {
                          "endlinecolor": "#A2B1C6",
                          "gridcolor": "#506784",
                          "linecolor": "#506784",
                          "minorgridcolor": "#506784",
                          "startlinecolor": "#A2B1C6"
                        },
                        "baxis": {
                          "endlinecolor": "#A2B1C6",
                          "gridcolor": "#506784",
                          "linecolor": "#506784",
                          "minorgridcolor": "#506784",
                          "startlinecolor": "#A2B1C6"
                        },
                        "type": "carpet"
                      }
                    ],
                    "choropleth": [
                      {
                        "colorbar": {
                          "outlinewidth": 0,
                          "ticks": ""
                        },
                        "type": "choropleth"
                      }
                    ],
                    "contour": [
                      {
                        "colorbar": {
                          "outlinewidth": 0,
                          "ticks": ""
                        },
                        "colorscale": [
                          [
                            0,
                            "#0d0887"
                          ],
                          [
                            0.1111111111111111,
                            "#46039f"
                          ],
                          [
                            0.2222222222222222,
                            "#7201a8"
                          ],
                          [
                            0.3333333333333333,
                            "#9c179e"
                          ],
                          [
                            0.4444444444444444,
                            "#bd3786"
                          ],
                          [
                            0.5555555555555556,
                            "#d8576b"
                          ],
                          [
                            0.6666666666666666,
                            "#ed7953"
                          ],
                          [
                            0.7777777777777778,
                            "#fb9f3a"
                          ],
                          [
                            0.8888888888888888,
                            "#fdca26"
                          ],
                          [
                            1,
                            "#f0f921"
                          ]
                        ],
                        "type": "contour"
                      }
                    ],
                    "contourcarpet": [
                      {
                        "colorbar": {
                          "outlinewidth": 0,
                          "ticks": ""
                        },
                        "type": "contourcarpet"
                      }
                    ],
                    "heatmap": [
                      {
                        "colorbar": {
                          "outlinewidth": 0,
                          "ticks": ""
                        },
                        "colorscale": [
                          [
                            0,
                            "#0d0887"
                          ],
                          [
                            0.1111111111111111,
                            "#46039f"
                          ],
                          [
                            0.2222222222222222,
                            "#7201a8"
                          ],
                          [
                            0.3333333333333333,
                            "#9c179e"
                          ],
                          [
                            0.4444444444444444,
                            "#bd3786"
                          ],
                          [
                            0.5555555555555556,
                            "#d8576b"
                          ],
                          [
                            0.6666666666666666,
                            "#ed7953"
                          ],
                          [
                            0.7777777777777778,
                            "#fb9f3a"
                          ],
                          [
                            0.8888888888888888,
                            "#fdca26"
                          ],
                          [
                            1,
                            "#f0f921"
                          ]
                        ],
                        "type": "heatmap"
                      }
                    ],
                    "heatmapgl": [
                      {
                        "colorbar": {
                          "outlinewidth": 0,
                          "ticks": ""
                        },
                        "colorscale": [
                          [
                            0,
                            "#0d0887"
                          ],
                          [
                            0.1111111111111111,
                            "#46039f"
                          ],
                          [
                            0.2222222222222222,
                            "#7201a8"
                          ],
                          [
                            0.3333333333333333,
                            "#9c179e"
                          ],
                          [
                            0.4444444444444444,
                            "#bd3786"
                          ],
                          [
                            0.5555555555555556,
                            "#d8576b"
                          ],
                          [
                            0.6666666666666666,
                            "#ed7953"
                          ],
                          [
                            0.7777777777777778,
                            "#fb9f3a"
                          ],
                          [
                            0.8888888888888888,
                            "#fdca26"
                          ],
                          [
                            1,
                            "#f0f921"
                          ]
                        ],
                        "type": "heatmapgl"
                      }
                    ],
                    "histogram": [
                      {
                        "marker": {
                          "pattern": {
                            "fillmode": "overlay",
                            "size": 10,
                            "solidity": 0.2
                          }
                        },
                        "type": "histogram"
                      }
                    ],
                    "histogram2d": [
                      {
                        "colorbar": {
                          "outlinewidth": 0,
                          "ticks": ""
                        },
                        "colorscale": [
                          [
                            0,
                            "#0d0887"
                          ],
                          [
                            0.1111111111111111,
                            "#46039f"
                          ],
                          [
                            0.2222222222222222,
                            "#7201a8"
                          ],
                          [
                            0.3333333333333333,
                            "#9c179e"
                          ],
                          [
                            0.4444444444444444,
                            "#bd3786"
                          ],
                          [
                            0.5555555555555556,
                            "#d8576b"
                          ],
                          [
                            0.6666666666666666,
                            "#ed7953"
                          ],
                          [
                            0.7777777777777778,
                            "#fb9f3a"
                          ],
                          [
                            0.8888888888888888,
                            "#fdca26"
                          ],
                          [
                            1,
                            "#f0f921"
                          ]
                        ],
                        "type": "histogram2d"
                      }
                    ],
                    "histogram2dcontour": [
                      {
                        "colorbar": {
                          "outlinewidth": 0,
                          "ticks": ""
                        },
                        "colorscale": [
                          [
                            0,
                            "#0d0887"
                          ],
                          [
                            0.1111111111111111,
                            "#46039f"
                          ],
                          [
                            0.2222222222222222,
                            "#7201a8"
                          ],
                          [
                            0.3333333333333333,
                            "#9c179e"
                          ],
                          [
                            0.4444444444444444,
                            "#bd3786"
                          ],
                          [
                            0.5555555555555556,
                            "#d8576b"
                          ],
                          [
                            0.6666666666666666,
                            "#ed7953"
                          ],
                          [
                            0.7777777777777778,
                            "#fb9f3a"
                          ],
                          [
                            0.8888888888888888,
                            "#fdca26"
                          ],
                          [
                            1,
                            "#f0f921"
                          ]
                        ],
                        "type": "histogram2dcontour"
                      }
                    ],
                    "mesh3d": [
                      {
                        "colorbar": {
                          "outlinewidth": 0,
                          "ticks": ""
                        },
                        "type": "mesh3d"
                      }
                    ],
                    "parcoords": [
                      {
                        "line": {
                          "colorbar": {
                            "outlinewidth": 0,
                            "ticks": ""
                          }
                        },
                        "type": "parcoords"
                      }
                    ],
                    "pie": [
                      {
                        "automargin": true,
                        "type": "pie"
                      }
                    ],
                    "scatter": [
                      {
                        "marker": {
                          "line": {
                            "color": "#283442"
                          }
                        },
                        "type": "scatter"
                      }
                    ],
                    "scatter3d": [
                      {
                        "line": {
                          "colorbar": {
                            "outlinewidth": 0,
                            "ticks": ""
                          }
                        },
                        "marker": {
                          "colorbar": {
                            "outlinewidth": 0,
                            "ticks": ""
                          }
                        },
                        "type": "scatter3d"
                      }
                    ],
                    "scattercarpet": [
                      {
                        "marker": {
                          "colorbar": {
                            "outlinewidth": 0,
                            "ticks": ""
                          }
                        },
                        "type": "scattercarpet"
                      }
                    ],
                    "scattergeo": [
                      {
                        "marker": {
                          "colorbar": {
                            "outlinewidth": 0,
                            "ticks": ""
                          }
                        },
                        "type": "scattergeo"
                      }
                    ],
                    "scattergl": [
                      {
                        "marker": {
                          "line": {
                            "color": "#283442"
                          }
                        },
                        "type": "scattergl"
                      }
                    ],
                    "scattermapbox": [
                      {
                        "marker": {
                          "colorbar": {
                            "outlinewidth": 0,
                            "ticks": ""
                          }
                        },
                        "type": "scattermapbox"
                      }
                    ],
                    "scatterpolar": [
                      {
                        "marker": {
                          "colorbar": {
                            "outlinewidth": 0,
                            "ticks": ""
                          }
                        },
                        "type": "scatterpolar"
                      }
                    ],
                    "scatterpolargl": [
                      {
                        "marker": {
                          "colorbar": {
                            "outlinewidth": 0,
                            "ticks": ""
                          }
                        },
                        "type": "scatterpolargl"
                      }
                    ],
                    "scatterternary": [
                      {
                        "marker": {
                          "colorbar": {
                            "outlinewidth": 0,
                            "ticks": ""
                          }
                        },
                        "type": "scatterternary"
                      }
                    ],
                    "surface": [
                      {
                        "colorbar": {
                          "outlinewidth": 0,
                          "ticks": ""
                        },
                        "colorscale": [
                          [
                            0,
                            "#0d0887"
                          ],
                          [
                            0.1111111111111111,
                            "#46039f"
                          ],
                          [
                            0.2222222222222222,
                            "#7201a8"
                          ],
                          [
                            0.3333333333333333,
                            "#9c179e"
                          ],
                          [
                            0.4444444444444444,
                            "#bd3786"
                          ],
                          [
                            0.5555555555555556,
                            "#d8576b"
                          ],
                          [
                            0.6666666666666666,
                            "#ed7953"
                          ],
                          [
                            0.7777777777777778,
                            "#fb9f3a"
                          ],
                          [
                            0.8888888888888888,
                            "#fdca26"
                          ],
                          [
                            1,
                            "#f0f921"
                          ]
                        ],
                        "type": "surface"
                      }
                    ],
                    "table": [
                      {
                        "cells": {
                          "fill": {
                            "color": "#506784"
                          },
                          "line": {
                            "color": "rgb(17,17,17)"
                          }
                        },
                        "header": {
                          "fill": {
                            "color": "#2a3f5f"
                          },
                          "line": {
                            "color": "rgb(17,17,17)"
                          }
                        },
                        "type": "table"
                      }
                    ]
                  },
                  "layout": {
                    "annotationdefaults": {
                      "arrowcolor": "#f2f5fa",
                      "arrowhead": 0,
                      "arrowwidth": 1
                    },
                    "autotypenumbers": "strict",
                    "coloraxis": {
                      "colorbar": {
                        "outlinewidth": 0,
                        "ticks": ""
                      }
                    },
                    "colorscale": {
                      "diverging": [
                        [
                          0,
                          "#8e0152"
                        ],
                        [
                          0.1,
                          "#c51b7d"
                        ],
                        [
                          0.2,
                          "#de77ae"
                        ],
                        [
                          0.3,
                          "#f1b6da"
                        ],
                        [
                          0.4,
                          "#fde0ef"
                        ],
                        [
                          0.5,
                          "#f7f7f7"
                        ],
                        [
                          0.6,
                          "#e6f5d0"
                        ],
                        [
                          0.7,
                          "#b8e186"
                        ],
                        [
                          0.8,
                          "#7fbc41"
                        ],
                        [
                          0.9,
                          "#4d9221"
                        ],
                        [
                          1,
                          "#276419"
                        ]
                      ],
                      "sequential": [
                        [
                          0,
                          "#0d0887"
                        ],
                        [
                          0.1111111111111111,
                          "#46039f"
                        ],
                        [
                          0.2222222222222222,
                          "#7201a8"
                        ],
                        [
                          0.3333333333333333,
                          "#9c179e"
                        ],
                        [
                          0.4444444444444444,
                          "#bd3786"
                        ],
                        [
                          0.5555555555555556,
                          "#d8576b"
                        ],
                        [
                          0.6666666666666666,
                          "#ed7953"
                        ],
                        [
                          0.7777777777777778,
                          "#fb9f3a"
                        ],
                        [
                          0.8888888888888888,
                          "#fdca26"
                        ],
                        [
                          1,
                          "#f0f921"
                        ]
                      ],
                      "sequentialminus": [
                        [
                          0,
                          "#0d0887"
                        ],
                        [
                          0.1111111111111111,
                          "#46039f"
                        ],
                        [
                          0.2222222222222222,
                          "#7201a8"
                        ],
                        [
                          0.3333333333333333,
                          "#9c179e"
                        ],
                        [
                          0.4444444444444444,
                          "#bd3786"
                        ],
                        [
                          0.5555555555555556,
                          "#d8576b"
                        ],
                        [
                          0.6666666666666666,
                          "#ed7953"
                        ],
                        [
                          0.7777777777777778,
                          "#fb9f3a"
                        ],
                        [
                          0.8888888888888888,
                          "#fdca26"
                        ],
                        [
                          1,
                          "#f0f921"
                        ]
                      ]
                    },
                    "colorway": [
                      "#636efa",
                      "#EF553B",
                      "#00cc96",
                      "#ab63fa",
                      "#FFA15A",
                      "#19d3f3",
                      "#FF6692",
                      "#B6E880",
                      "#FF97FF",
                      "#FECB52"
                    ],
                    "font": {
                      "color": "#f2f5fa"
                    },
                    "geo": {
                      "bgcolor": "rgb(17,17,17)",
                      "lakecolor": "rgb(17,17,17)",
                      "landcolor": "rgb(17,17,17)",
                      "showlakes": true,
                      "showland": true,
                      "subunitcolor": "#506784"
                    },
                    "hoverlabel": {
                      "align": "left"
                    },
                    "hovermode": "closest",
                    "mapbox": {
                      "style": "dark"
                    },
                    "paper_bgcolor": "rgb(17,17,17)",
                    "plot_bgcolor": "rgb(17,17,17)",
                    "polar": {
                      "angularaxis": {
                        "gridcolor": "#506784",
                        "linecolor": "#506784",
                        "ticks": ""
                      },
                      "bgcolor": "rgb(17,17,17)",
                      "radialaxis": {
                        "gridcolor": "#506784",
                        "linecolor": "#506784",
                        "ticks": ""
                      }
                    },
                    "scene": {
                      "xaxis": {
                        "backgroundcolor": "rgb(17,17,17)",
                        "gridcolor": "#506784",
                        "gridwidth": 2,
                        "linecolor": "#506784",
                        "showbackground": true,
                        "ticks": "",
                        "zerolinecolor": "#C8D4E3"
                      },
                      "yaxis": {
                        "backgroundcolor": "rgb(17,17,17)",
                        "gridcolor": "#506784",
                        "gridwidth": 2,
                        "linecolor": "#506784",
                        "showbackground": true,
                        "ticks": "",
                        "zerolinecolor": "#C8D4E3"
                      },
                      "zaxis": {
                        "backgroundcolor": "rgb(17,17,17)",
                        "gridcolor": "#506784",
                        "gridwidth": 2,
                        "linecolor": "#506784",
                        "showbackground": true,
                        "ticks": "",
                        "zerolinecolor": "#C8D4E3"
                      }
                    },
                    "shapedefaults": {
                      "line": {
                        "color": "#f2f5fa"
                      }
                    },
                    "sliderdefaults": {
                      "bgcolor": "#C8D4E3",
                      "bordercolor": "rgb(17,17,17)",
                      "borderwidth": 1,
                      "tickwidth": 0
                    },
                    "ternary": {
                      "aaxis": {
                        "gridcolor": "#506784",
                        "linecolor": "#506784",
                        "ticks": ""
                      },
                      "baxis": {
                        "gridcolor": "#506784",
                        "linecolor": "#506784",
                        "ticks": ""
                      },
                      "bgcolor": "rgb(17,17,17)",
                      "caxis": {
                        "gridcolor": "#506784",
                        "linecolor": "#506784",
                        "ticks": ""
                      }
                    },
                    "title": {
                      "x": 0.05
                    },
                    "updatemenudefaults": {
                      "bgcolor": "#506784",
                      "borderwidth": 0
                    },
                    "xaxis": {
                      "automargin": true,
                      "gridcolor": "#283442",
                      "linecolor": "#506784",
                      "ticks": "",
                      "title": {
                        "standoff": 15
                      },
                      "zerolinecolor": "#283442",
                      "zerolinewidth": 2
                    },
                    "yaxis": {
                      "automargin": true,
                      "gridcolor": "#283442",
                      "linecolor": "#506784",
                      "ticks": "",
                      "title": {
                        "standoff": 15
                      },
                      "zerolinecolor": "#283442",
                      "zerolinewidth": 2
                    }
                  }
                },
                "title": {
                  "text": "Prevalence of Type 2 Diabetes over Time in Brazil (as a percentage)"
                },
                "xaxis": {
                  "anchor": "y",
                  "domain": [
                    0,
                    1
                  ],
                  "title": {
                    "text": "Year"
                  }
                },
                "yaxis": {
                  "anchor": "x",
                  "domain": [
                    0,
                    1
                  ],
                  "title": {
                    "text": "Diabetes Prevalence %"
                  }
                }
              }
            }
          },
          "metadata": {},
          "output_type": "display_data"
        }
      ],
      "source": [
        "fig = px.line(df,\n",
        "              x='year',\n",
        "              y='val_percent',\n",
        "labels={\"year\":\"Year\",\"val_percent\":\"Diabetes Prevalence %\"\n",
        "                      },\n",
        "color='location',\n",
        "title='Prevalence of Type 2 Diabetes over Time in Brazil (as a percentage)')\n",
        "fig.update_layout(template='plotly_dark',plot_bgcolor='black', paper_bgcolor='black')\n",
        "fig.show()"
      ]
    },
    {
      "cell_type": "code",
      "execution_count": 14,
      "metadata": {
        "id": "w0gm3LMSpu4w"
      },
      "outputs": [],
      "source": [
        "#export figure (including html file compression).\n",
        "f = open('fig2_interactive.html', \"w\")\n",
        "f.close()\n",
        "with open('fig2_interactive.html', 'a') as f:\n",
        "    f.write(fig.to_html(full_html=False, include_plotlyjs='cdn'))\n",
        "f.close()"
      ]
    }
  ],
  "metadata": {
    "colab": {
      "provenance": []
    },
    "kernelspec": {
      "display_name": "Python 3",
      "language": "python",
      "name": "python3"
    },
    "language_info": {
      "codemirror_mode": {
        "name": "ipython",
        "version": 3
      },
      "file_extension": ".py",
      "mimetype": "text/x-python",
      "name": "python",
      "nbconvert_exporter": "python",
      "pygments_lexer": "ipython3",
      "version": "3.12.1"
    }
  },
  "nbformat": 4,
  "nbformat_minor": 0
}
