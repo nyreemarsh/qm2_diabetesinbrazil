{
 "cells": [
  {
   "cell_type": "code",
   "execution_count": 1,
   "metadata": {},
   "outputs": [],
   "source": [
    "#import libraries\n",
    "import pandas as pd\n",
    "import seaborn as sns\n",
    "import numpy as np\n",
    "import plotly\n",
    "import plotly.express as px\n",
    "import warnings\n",
    "from statsmodels.formula.api import ols\n",
    "from statsmodels.iolib.summary2 import summary_col\n",
    "import matplotlib.pyplot as plt\n",
    "import plotly.express as px\n",
    "import plotly.io as pio\n",
    "\n",
    "warnings.filterwarnings('ignore')\n",
    "sns.set(font_scale=1.5)\n",
    "plt.rcParams['figure.figsize'] = (12, 8)"
   ]
  },
  {
   "cell_type": "code",
   "execution_count": 2,
   "metadata": {},
   "outputs": [
    {
     "name": "stdout",
     "output_type": "stream",
     "text": [
      "Requirement already satisfied: linearmodels in /Library/Frameworks/Python.framework/Versions/3.12/lib/python3.12/site-packages (5.3)\n",
      "Requirement already satisfied: numpy>=1.19.0 in /Library/Frameworks/Python.framework/Versions/3.12/lib/python3.12/site-packages (from linearmodels) (1.26.2)\n",
      "Requirement already satisfied: pandas>=1.1.0 in /Library/Frameworks/Python.framework/Versions/3.12/lib/python3.12/site-packages (from linearmodels) (2.1.4)\n",
      "Requirement already satisfied: scipy>=1.5.0 in /Library/Frameworks/Python.framework/Versions/3.12/lib/python3.12/site-packages (from linearmodels) (1.11.4)\n",
      "Requirement already satisfied: statsmodels>=0.12.0 in /Library/Frameworks/Python.framework/Versions/3.12/lib/python3.12/site-packages (from linearmodels) (0.14.1)\n",
      "Requirement already satisfied: mypy-extensions>=0.4 in /Library/Frameworks/Python.framework/Versions/3.12/lib/python3.12/site-packages (from linearmodels) (1.0.0)\n",
      "Requirement already satisfied: Cython>=0.29.34 in /Library/Frameworks/Python.framework/Versions/3.12/lib/python3.12/site-packages (from linearmodels) (3.0.7)\n",
      "Requirement already satisfied: pyhdfe>=0.1 in /Library/Frameworks/Python.framework/Versions/3.12/lib/python3.12/site-packages (from linearmodels) (0.2.0)\n",
      "Requirement already satisfied: formulaic>=0.6.5 in /Library/Frameworks/Python.framework/Versions/3.12/lib/python3.12/site-packages (from linearmodels) (1.0.1)\n",
      "Requirement already satisfied: setuptools-scm<8.0.0,>=7.0.0 in /Library/Frameworks/Python.framework/Versions/3.12/lib/python3.12/site-packages (from setuptools-scm[toml]<8.0.0,>=7.0.0->linearmodels) (7.1.0)\n",
      "Requirement already satisfied: interface-meta>=1.2.0 in /Library/Frameworks/Python.framework/Versions/3.12/lib/python3.12/site-packages (from formulaic>=0.6.5->linearmodels) (1.3.0)\n",
      "Requirement already satisfied: typing-extensions>=4.2.0 in /Library/Frameworks/Python.framework/Versions/3.12/lib/python3.12/site-packages (from formulaic>=0.6.5->linearmodels) (4.9.0)\n",
      "Requirement already satisfied: wrapt>=1.0 in /Library/Frameworks/Python.framework/Versions/3.12/lib/python3.12/site-packages (from formulaic>=0.6.5->linearmodels) (1.16.0)\n",
      "Requirement already satisfied: python-dateutil>=2.8.2 in /Library/Frameworks/Python.framework/Versions/3.12/lib/python3.12/site-packages (from pandas>=1.1.0->linearmodels) (2.8.2)\n",
      "Requirement already satisfied: pytz>=2020.1 in /Library/Frameworks/Python.framework/Versions/3.12/lib/python3.12/site-packages (from pandas>=1.1.0->linearmodels) (2023.3.post1)\n",
      "Requirement already satisfied: tzdata>=2022.1 in /Library/Frameworks/Python.framework/Versions/3.12/lib/python3.12/site-packages (from pandas>=1.1.0->linearmodels) (2023.3)\n",
      "Requirement already satisfied: packaging>=20.0 in /Library/Frameworks/Python.framework/Versions/3.12/lib/python3.12/site-packages (from setuptools-scm<8.0.0,>=7.0.0->setuptools-scm[toml]<8.0.0,>=7.0.0->linearmodels) (23.2)\n",
      "Requirement already satisfied: setuptools in /Library/Frameworks/Python.framework/Versions/3.12/lib/python3.12/site-packages (from setuptools-scm<8.0.0,>=7.0.0->setuptools-scm[toml]<8.0.0,>=7.0.0->linearmodels) (69.0.2)\n",
      "Requirement already satisfied: patsy>=0.5.4 in /Library/Frameworks/Python.framework/Versions/3.12/lib/python3.12/site-packages (from statsmodels>=0.12.0->linearmodels) (0.5.5)\n",
      "Requirement already satisfied: six in /Library/Frameworks/Python.framework/Versions/3.12/lib/python3.12/site-packages (from patsy>=0.5.4->statsmodels>=0.12.0->linearmodels) (1.16.0)\n"
     ]
    }
   ],
   "source": [
    "#install linearmodels\n",
    "!pip install linearmodels\n",
    "\n",
    "from linearmodels import PanelOLS\n",
    "from linearmodels import RandomEffects\n",
    "import statsmodels.formula.api as smf\n",
    "from linearmodels.panel import compare"
   ]
  },
  {
   "cell_type": "code",
   "execution_count": 3,
   "metadata": {},
   "outputs": [
    {
     "data": {
      "text/html": [
       "<div>\n",
       "<style scoped>\n",
       "    .dataframe tbody tr th:only-of-type {\n",
       "        vertical-align: middle;\n",
       "    }\n",
       "\n",
       "    .dataframe tbody tr th {\n",
       "        vertical-align: top;\n",
       "    }\n",
       "\n",
       "    .dataframe thead th {\n",
       "        text-align: right;\n",
       "    }\n",
       "</style>\n",
       "<table border=\"1\" class=\"dataframe\">\n",
       "  <thead>\n",
       "    <tr style=\"text-align: right;\">\n",
       "      <th></th>\n",
       "      <th>measure</th>\n",
       "      <th>location</th>\n",
       "      <th>sex</th>\n",
       "      <th>age</th>\n",
       "      <th>cause</th>\n",
       "      <th>metric</th>\n",
       "      <th>year</th>\n",
       "      <th>val</th>\n",
       "      <th>upper</th>\n",
       "      <th>lower</th>\n",
       "    </tr>\n",
       "  </thead>\n",
       "  <tbody>\n",
       "    <tr>\n",
       "      <th>0</th>\n",
       "      <td>Prevalence</td>\n",
       "      <td>Mato Grosso do Sul</td>\n",
       "      <td>Both</td>\n",
       "      <td>All ages</td>\n",
       "      <td>Diabetes mellitus type 2</td>\n",
       "      <td>Number</td>\n",
       "      <td>1990</td>\n",
       "      <td>48971.383010</td>\n",
       "      <td>54174.689470</td>\n",
       "      <td>43968.234840</td>\n",
       "    </tr>\n",
       "    <tr>\n",
       "      <th>1</th>\n",
       "      <td>Prevalence</td>\n",
       "      <td>Mato Grosso do Sul</td>\n",
       "      <td>Both</td>\n",
       "      <td>All ages</td>\n",
       "      <td>Diabetes mellitus type 2</td>\n",
       "      <td>Percent</td>\n",
       "      <td>1990</td>\n",
       "      <td>0.028682</td>\n",
       "      <td>0.031747</td>\n",
       "      <td>0.025762</td>\n",
       "    </tr>\n",
       "    <tr>\n",
       "      <th>2</th>\n",
       "      <td>Prevalence</td>\n",
       "      <td>Mato Grosso do Sul</td>\n",
       "      <td>Both</td>\n",
       "      <td>All ages</td>\n",
       "      <td>Diabetes mellitus type 2</td>\n",
       "      <td>Rate</td>\n",
       "      <td>1990</td>\n",
       "      <td>2730.838086</td>\n",
       "      <td>3020.995043</td>\n",
       "      <td>2451.842748</td>\n",
       "    </tr>\n",
       "    <tr>\n",
       "      <th>3</th>\n",
       "      <td>Prevalence</td>\n",
       "      <td>Mato Grosso do Sul</td>\n",
       "      <td>Both</td>\n",
       "      <td>All ages</td>\n",
       "      <td>Diabetes mellitus type 2</td>\n",
       "      <td>Number</td>\n",
       "      <td>1991</td>\n",
       "      <td>50680.883560</td>\n",
       "      <td>56118.188880</td>\n",
       "      <td>45557.249960</td>\n",
       "    </tr>\n",
       "    <tr>\n",
       "      <th>4</th>\n",
       "      <td>Prevalence</td>\n",
       "      <td>Mato Grosso do Sul</td>\n",
       "      <td>Both</td>\n",
       "      <td>All ages</td>\n",
       "      <td>Diabetes mellitus type 2</td>\n",
       "      <td>Percent</td>\n",
       "      <td>1991</td>\n",
       "      <td>0.029124</td>\n",
       "      <td>0.032218</td>\n",
       "      <td>0.026150</td>\n",
       "    </tr>\n",
       "    <tr>\n",
       "      <th>...</th>\n",
       "      <td>...</td>\n",
       "      <td>...</td>\n",
       "      <td>...</td>\n",
       "      <td>...</td>\n",
       "      <td>...</td>\n",
       "      <td>...</td>\n",
       "      <td>...</td>\n",
       "      <td>...</td>\n",
       "      <td>...</td>\n",
       "      <td>...</td>\n",
       "    </tr>\n",
       "    <tr>\n",
       "      <th>4855</th>\n",
       "      <td>Incidence</td>\n",
       "      <td>Sergipe</td>\n",
       "      <td>Both</td>\n",
       "      <td>All ages</td>\n",
       "      <td>Diabetes mellitus type 2</td>\n",
       "      <td>Percent</td>\n",
       "      <td>2018</td>\n",
       "      <td>0.000560</td>\n",
       "      <td>0.000624</td>\n",
       "      <td>0.000499</td>\n",
       "    </tr>\n",
       "    <tr>\n",
       "      <th>4856</th>\n",
       "      <td>Incidence</td>\n",
       "      <td>Sergipe</td>\n",
       "      <td>Both</td>\n",
       "      <td>All ages</td>\n",
       "      <td>Diabetes mellitus type 2</td>\n",
       "      <td>Rate</td>\n",
       "      <td>2018</td>\n",
       "      <td>330.891180</td>\n",
       "      <td>359.733350</td>\n",
       "      <td>304.512569</td>\n",
       "    </tr>\n",
       "    <tr>\n",
       "      <th>4857</th>\n",
       "      <td>Incidence</td>\n",
       "      <td>Sergipe</td>\n",
       "      <td>Both</td>\n",
       "      <td>All ages</td>\n",
       "      <td>Diabetes mellitus type 2</td>\n",
       "      <td>Number</td>\n",
       "      <td>2019</td>\n",
       "      <td>8044.155229</td>\n",
       "      <td>8805.406073</td>\n",
       "      <td>7352.878247</td>\n",
       "    </tr>\n",
       "    <tr>\n",
       "      <th>4858</th>\n",
       "      <td>Incidence</td>\n",
       "      <td>Sergipe</td>\n",
       "      <td>Both</td>\n",
       "      <td>All ages</td>\n",
       "      <td>Diabetes mellitus type 2</td>\n",
       "      <td>Percent</td>\n",
       "      <td>2019</td>\n",
       "      <td>0.000567</td>\n",
       "      <td>0.000632</td>\n",
       "      <td>0.000503</td>\n",
       "    </tr>\n",
       "    <tr>\n",
       "      <th>4859</th>\n",
       "      <td>Incidence</td>\n",
       "      <td>Sergipe</td>\n",
       "      <td>Both</td>\n",
       "      <td>All ages</td>\n",
       "      <td>Diabetes mellitus type 2</td>\n",
       "      <td>Rate</td>\n",
       "      <td>2019</td>\n",
       "      <td>334.028106</td>\n",
       "      <td>365.638533</td>\n",
       "      <td>305.323297</td>\n",
       "    </tr>\n",
       "  </tbody>\n",
       "</table>\n",
       "<p>4860 rows × 10 columns</p>\n",
       "</div>"
      ],
      "text/plain": [
       "         measure            location   sex       age  \\\n",
       "0     Prevalence  Mato Grosso do Sul  Both  All ages   \n",
       "1     Prevalence  Mato Grosso do Sul  Both  All ages   \n",
       "2     Prevalence  Mato Grosso do Sul  Both  All ages   \n",
       "3     Prevalence  Mato Grosso do Sul  Both  All ages   \n",
       "4     Prevalence  Mato Grosso do Sul  Both  All ages   \n",
       "...          ...                 ...   ...       ...   \n",
       "4855   Incidence             Sergipe  Both  All ages   \n",
       "4856   Incidence             Sergipe  Both  All ages   \n",
       "4857   Incidence             Sergipe  Both  All ages   \n",
       "4858   Incidence             Sergipe  Both  All ages   \n",
       "4859   Incidence             Sergipe  Both  All ages   \n",
       "\n",
       "                         cause   metric  year           val         upper  \\\n",
       "0     Diabetes mellitus type 2   Number  1990  48971.383010  54174.689470   \n",
       "1     Diabetes mellitus type 2  Percent  1990      0.028682      0.031747   \n",
       "2     Diabetes mellitus type 2     Rate  1990   2730.838086   3020.995043   \n",
       "3     Diabetes mellitus type 2   Number  1991  50680.883560  56118.188880   \n",
       "4     Diabetes mellitus type 2  Percent  1991      0.029124      0.032218   \n",
       "...                        ...      ...   ...           ...           ...   \n",
       "4855  Diabetes mellitus type 2  Percent  2018      0.000560      0.000624   \n",
       "4856  Diabetes mellitus type 2     Rate  2018    330.891180    359.733350   \n",
       "4857  Diabetes mellitus type 2   Number  2019   8044.155229   8805.406073   \n",
       "4858  Diabetes mellitus type 2  Percent  2019      0.000567      0.000632   \n",
       "4859  Diabetes mellitus type 2     Rate  2019    334.028106    365.638533   \n",
       "\n",
       "             lower  \n",
       "0     43968.234840  \n",
       "1         0.025762  \n",
       "2      2451.842748  \n",
       "3     45557.249960  \n",
       "4         0.026150  \n",
       "...            ...  \n",
       "4855      0.000499  \n",
       "4856    304.512569  \n",
       "4857   7352.878247  \n",
       "4858      0.000503  \n",
       "4859    305.323297  \n",
       "\n",
       "[4860 rows x 10 columns]"
      ]
     },
     "execution_count": 3,
     "metadata": {},
     "output_type": "execute_result"
    }
   ],
   "source": [
    "#read in the dataset\n",
    "df = pd.read_csv('Brazilnewlocationdata.csv')\n",
    "df"
   ]
  },
  {
   "cell_type": "code",
   "execution_count": 4,
   "metadata": {},
   "outputs": [
    {
     "data": {
      "text/html": [
       "<div>\n",
       "<style scoped>\n",
       "    .dataframe tbody tr th:only-of-type {\n",
       "        vertical-align: middle;\n",
       "    }\n",
       "\n",
       "    .dataframe tbody tr th {\n",
       "        vertical-align: top;\n",
       "    }\n",
       "\n",
       "    .dataframe thead th {\n",
       "        text-align: right;\n",
       "    }\n",
       "</style>\n",
       "<table border=\"1\" class=\"dataframe\">\n",
       "  <thead>\n",
       "    <tr style=\"text-align: right;\">\n",
       "      <th></th>\n",
       "      <th>measure</th>\n",
       "      <th>location</th>\n",
       "      <th>sex</th>\n",
       "      <th>age</th>\n",
       "      <th>cause</th>\n",
       "      <th>metric</th>\n",
       "      <th>year</th>\n",
       "      <th>val</th>\n",
       "      <th>upper</th>\n",
       "      <th>lower</th>\n",
       "      <th>val_percent</th>\n",
       "    </tr>\n",
       "  </thead>\n",
       "  <tbody>\n",
       "    <tr>\n",
       "      <th>1</th>\n",
       "      <td>Prevalence</td>\n",
       "      <td>Mato Grosso do Sul</td>\n",
       "      <td>Both</td>\n",
       "      <td>All ages</td>\n",
       "      <td>Diabetes mellitus type 2</td>\n",
       "      <td>Percent</td>\n",
       "      <td>1990</td>\n",
       "      <td>0.028682</td>\n",
       "      <td>0.031747</td>\n",
       "      <td>0.025762</td>\n",
       "      <td>2.868202</td>\n",
       "    </tr>\n",
       "    <tr>\n",
       "      <th>4</th>\n",
       "      <td>Prevalence</td>\n",
       "      <td>Mato Grosso do Sul</td>\n",
       "      <td>Both</td>\n",
       "      <td>All ages</td>\n",
       "      <td>Diabetes mellitus type 2</td>\n",
       "      <td>Percent</td>\n",
       "      <td>1991</td>\n",
       "      <td>0.029124</td>\n",
       "      <td>0.032218</td>\n",
       "      <td>0.026150</td>\n",
       "      <td>2.912357</td>\n",
       "    </tr>\n",
       "    <tr>\n",
       "      <th>7</th>\n",
       "      <td>Prevalence</td>\n",
       "      <td>Mato Grosso do Sul</td>\n",
       "      <td>Both</td>\n",
       "      <td>All ages</td>\n",
       "      <td>Diabetes mellitus type 2</td>\n",
       "      <td>Percent</td>\n",
       "      <td>1992</td>\n",
       "      <td>0.029636</td>\n",
       "      <td>0.032689</td>\n",
       "      <td>0.026602</td>\n",
       "      <td>2.963580</td>\n",
       "    </tr>\n",
       "    <tr>\n",
       "      <th>10</th>\n",
       "      <td>Prevalence</td>\n",
       "      <td>Mato Grosso do Sul</td>\n",
       "      <td>Both</td>\n",
       "      <td>All ages</td>\n",
       "      <td>Diabetes mellitus type 2</td>\n",
       "      <td>Percent</td>\n",
       "      <td>1993</td>\n",
       "      <td>0.030186</td>\n",
       "      <td>0.033282</td>\n",
       "      <td>0.027030</td>\n",
       "      <td>3.018603</td>\n",
       "    </tr>\n",
       "    <tr>\n",
       "      <th>13</th>\n",
       "      <td>Prevalence</td>\n",
       "      <td>Mato Grosso do Sul</td>\n",
       "      <td>Both</td>\n",
       "      <td>All ages</td>\n",
       "      <td>Diabetes mellitus type 2</td>\n",
       "      <td>Percent</td>\n",
       "      <td>1994</td>\n",
       "      <td>0.030768</td>\n",
       "      <td>0.034174</td>\n",
       "      <td>0.027368</td>\n",
       "      <td>3.076790</td>\n",
       "    </tr>\n",
       "    <tr>\n",
       "      <th>...</th>\n",
       "      <td>...</td>\n",
       "      <td>...</td>\n",
       "      <td>...</td>\n",
       "      <td>...</td>\n",
       "      <td>...</td>\n",
       "      <td>...</td>\n",
       "      <td>...</td>\n",
       "      <td>...</td>\n",
       "      <td>...</td>\n",
       "      <td>...</td>\n",
       "      <td>...</td>\n",
       "    </tr>\n",
       "    <tr>\n",
       "      <th>2416</th>\n",
       "      <td>Prevalence</td>\n",
       "      <td>Pernambuco</td>\n",
       "      <td>Both</td>\n",
       "      <td>All ages</td>\n",
       "      <td>Diabetes mellitus type 2</td>\n",
       "      <td>Percent</td>\n",
       "      <td>2015</td>\n",
       "      <td>0.057791</td>\n",
       "      <td>0.063796</td>\n",
       "      <td>0.052188</td>\n",
       "      <td>5.779122</td>\n",
       "    </tr>\n",
       "    <tr>\n",
       "      <th>2419</th>\n",
       "      <td>Prevalence</td>\n",
       "      <td>Pernambuco</td>\n",
       "      <td>Both</td>\n",
       "      <td>All ages</td>\n",
       "      <td>Diabetes mellitus type 2</td>\n",
       "      <td>Percent</td>\n",
       "      <td>2016</td>\n",
       "      <td>0.059280</td>\n",
       "      <td>0.064817</td>\n",
       "      <td>0.054081</td>\n",
       "      <td>5.928031</td>\n",
       "    </tr>\n",
       "    <tr>\n",
       "      <th>2422</th>\n",
       "      <td>Prevalence</td>\n",
       "      <td>Pernambuco</td>\n",
       "      <td>Both</td>\n",
       "      <td>All ages</td>\n",
       "      <td>Diabetes mellitus type 2</td>\n",
       "      <td>Percent</td>\n",
       "      <td>2017</td>\n",
       "      <td>0.060508</td>\n",
       "      <td>0.067135</td>\n",
       "      <td>0.054897</td>\n",
       "      <td>6.050776</td>\n",
       "    </tr>\n",
       "    <tr>\n",
       "      <th>2425</th>\n",
       "      <td>Prevalence</td>\n",
       "      <td>Pernambuco</td>\n",
       "      <td>Both</td>\n",
       "      <td>All ages</td>\n",
       "      <td>Diabetes mellitus type 2</td>\n",
       "      <td>Percent</td>\n",
       "      <td>2018</td>\n",
       "      <td>0.061270</td>\n",
       "      <td>0.067231</td>\n",
       "      <td>0.055269</td>\n",
       "      <td>6.127044</td>\n",
       "    </tr>\n",
       "    <tr>\n",
       "      <th>2428</th>\n",
       "      <td>Prevalence</td>\n",
       "      <td>Pernambuco</td>\n",
       "      <td>Both</td>\n",
       "      <td>All ages</td>\n",
       "      <td>Diabetes mellitus type 2</td>\n",
       "      <td>Percent</td>\n",
       "      <td>2019</td>\n",
       "      <td>0.061719</td>\n",
       "      <td>0.068291</td>\n",
       "      <td>0.055137</td>\n",
       "      <td>6.171945</td>\n",
       "    </tr>\n",
       "  </tbody>\n",
       "</table>\n",
       "<p>810 rows × 11 columns</p>\n",
       "</div>"
      ],
      "text/plain": [
       "         measure            location   sex       age  \\\n",
       "1     Prevalence  Mato Grosso do Sul  Both  All ages   \n",
       "4     Prevalence  Mato Grosso do Sul  Both  All ages   \n",
       "7     Prevalence  Mato Grosso do Sul  Both  All ages   \n",
       "10    Prevalence  Mato Grosso do Sul  Both  All ages   \n",
       "13    Prevalence  Mato Grosso do Sul  Both  All ages   \n",
       "...          ...                 ...   ...       ...   \n",
       "2416  Prevalence          Pernambuco  Both  All ages   \n",
       "2419  Prevalence          Pernambuco  Both  All ages   \n",
       "2422  Prevalence          Pernambuco  Both  All ages   \n",
       "2425  Prevalence          Pernambuco  Both  All ages   \n",
       "2428  Prevalence          Pernambuco  Both  All ages   \n",
       "\n",
       "                         cause   metric  year       val     upper     lower  \\\n",
       "1     Diabetes mellitus type 2  Percent  1990  0.028682  0.031747  0.025762   \n",
       "4     Diabetes mellitus type 2  Percent  1991  0.029124  0.032218  0.026150   \n",
       "7     Diabetes mellitus type 2  Percent  1992  0.029636  0.032689  0.026602   \n",
       "10    Diabetes mellitus type 2  Percent  1993  0.030186  0.033282  0.027030   \n",
       "13    Diabetes mellitus type 2  Percent  1994  0.030768  0.034174  0.027368   \n",
       "...                        ...      ...   ...       ...       ...       ...   \n",
       "2416  Diabetes mellitus type 2  Percent  2015  0.057791  0.063796  0.052188   \n",
       "2419  Diabetes mellitus type 2  Percent  2016  0.059280  0.064817  0.054081   \n",
       "2422  Diabetes mellitus type 2  Percent  2017  0.060508  0.067135  0.054897   \n",
       "2425  Diabetes mellitus type 2  Percent  2018  0.061270  0.067231  0.055269   \n",
       "2428  Diabetes mellitus type 2  Percent  2019  0.061719  0.068291  0.055137   \n",
       "\n",
       "      val_percent  \n",
       "1        2.868202  \n",
       "4        2.912357  \n",
       "7        2.963580  \n",
       "10       3.018603  \n",
       "13       3.076790  \n",
       "...           ...  \n",
       "2416     5.779122  \n",
       "2419     5.928031  \n",
       "2422     6.050776  \n",
       "2425     6.127044  \n",
       "2428     6.171945  \n",
       "\n",
       "[810 rows x 11 columns]"
      ]
     },
     "execution_count": 4,
     "metadata": {},
     "output_type": "execute_result"
    }
   ],
   "source": [
    "#refine the dataframe\n",
    "df['val_percent'] = df['val']*100\n",
    "df=df[df['measure']=='Prevalence']\n",
    "df=df[df['metric']=='Percent']\n",
    "df"
   ]
  },
  {
   "cell_type": "code",
   "execution_count": 5,
   "metadata": {},
   "outputs": [
    {
     "data": {
      "text/html": [
       "<div>\n",
       "<style scoped>\n",
       "    .dataframe tbody tr th:only-of-type {\n",
       "        vertical-align: middle;\n",
       "    }\n",
       "\n",
       "    .dataframe tbody tr th {\n",
       "        vertical-align: top;\n",
       "    }\n",
       "\n",
       "    .dataframe thead th {\n",
       "        text-align: right;\n",
       "    }\n",
       "</style>\n",
       "<table border=\"1\" class=\"dataframe\">\n",
       "  <thead>\n",
       "    <tr style=\"text-align: right;\">\n",
       "      <th></th>\n",
       "      <th>measure</th>\n",
       "      <th>location</th>\n",
       "      <th>sex</th>\n",
       "      <th>age</th>\n",
       "      <th>cause</th>\n",
       "      <th>metric</th>\n",
       "      <th>year</th>\n",
       "      <th>val</th>\n",
       "      <th>upper</th>\n",
       "      <th>lower</th>\n",
       "      <th>val_percent</th>\n",
       "    </tr>\n",
       "  </thead>\n",
       "  <tbody>\n",
       "    <tr>\n",
       "      <th>1171</th>\n",
       "      <td>Prevalence</td>\n",
       "      <td>Amapá</td>\n",
       "      <td>Both</td>\n",
       "      <td>All ages</td>\n",
       "      <td>Diabetes mellitus type 2</td>\n",
       "      <td>Percent</td>\n",
       "      <td>1990</td>\n",
       "      <td>0.017306</td>\n",
       "      <td>0.019288</td>\n",
       "      <td>0.015551</td>\n",
       "      <td>1.730590</td>\n",
       "    </tr>\n",
       "    <tr>\n",
       "      <th>1174</th>\n",
       "      <td>Prevalence</td>\n",
       "      <td>Amapá</td>\n",
       "      <td>Both</td>\n",
       "      <td>All ages</td>\n",
       "      <td>Diabetes mellitus type 2</td>\n",
       "      <td>Percent</td>\n",
       "      <td>1991</td>\n",
       "      <td>0.017364</td>\n",
       "      <td>0.019318</td>\n",
       "      <td>0.015628</td>\n",
       "      <td>1.736433</td>\n",
       "    </tr>\n",
       "    <tr>\n",
       "      <th>1177</th>\n",
       "      <td>Prevalence</td>\n",
       "      <td>Amapá</td>\n",
       "      <td>Both</td>\n",
       "      <td>All ages</td>\n",
       "      <td>Diabetes mellitus type 2</td>\n",
       "      <td>Percent</td>\n",
       "      <td>1992</td>\n",
       "      <td>0.017426</td>\n",
       "      <td>0.019272</td>\n",
       "      <td>0.015723</td>\n",
       "      <td>1.742555</td>\n",
       "    </tr>\n",
       "    <tr>\n",
       "      <th>1180</th>\n",
       "      <td>Prevalence</td>\n",
       "      <td>Amapá</td>\n",
       "      <td>Both</td>\n",
       "      <td>All ages</td>\n",
       "      <td>Diabetes mellitus type 2</td>\n",
       "      <td>Percent</td>\n",
       "      <td>1993</td>\n",
       "      <td>0.017492</td>\n",
       "      <td>0.019376</td>\n",
       "      <td>0.015774</td>\n",
       "      <td>1.749155</td>\n",
       "    </tr>\n",
       "    <tr>\n",
       "      <th>1183</th>\n",
       "      <td>Prevalence</td>\n",
       "      <td>Amapá</td>\n",
       "      <td>Both</td>\n",
       "      <td>All ages</td>\n",
       "      <td>Diabetes mellitus type 2</td>\n",
       "      <td>Percent</td>\n",
       "      <td>1994</td>\n",
       "      <td>0.017568</td>\n",
       "      <td>0.019508</td>\n",
       "      <td>0.015815</td>\n",
       "      <td>1.756828</td>\n",
       "    </tr>\n",
       "    <tr>\n",
       "      <th>1186</th>\n",
       "      <td>Prevalence</td>\n",
       "      <td>Amapá</td>\n",
       "      <td>Both</td>\n",
       "      <td>All ages</td>\n",
       "      <td>Diabetes mellitus type 2</td>\n",
       "      <td>Percent</td>\n",
       "      <td>1995</td>\n",
       "      <td>0.017660</td>\n",
       "      <td>0.019670</td>\n",
       "      <td>0.015852</td>\n",
       "      <td>1.766005</td>\n",
       "    </tr>\n",
       "    <tr>\n",
       "      <th>1189</th>\n",
       "      <td>Prevalence</td>\n",
       "      <td>Amapá</td>\n",
       "      <td>Both</td>\n",
       "      <td>All ages</td>\n",
       "      <td>Diabetes mellitus type 2</td>\n",
       "      <td>Percent</td>\n",
       "      <td>1996</td>\n",
       "      <td>0.017760</td>\n",
       "      <td>0.019727</td>\n",
       "      <td>0.016004</td>\n",
       "      <td>1.776008</td>\n",
       "    </tr>\n",
       "    <tr>\n",
       "      <th>1192</th>\n",
       "      <td>Prevalence</td>\n",
       "      <td>Amapá</td>\n",
       "      <td>Both</td>\n",
       "      <td>All ages</td>\n",
       "      <td>Diabetes mellitus type 2</td>\n",
       "      <td>Percent</td>\n",
       "      <td>1997</td>\n",
       "      <td>0.017878</td>\n",
       "      <td>0.019830</td>\n",
       "      <td>0.016109</td>\n",
       "      <td>1.787750</td>\n",
       "    </tr>\n",
       "    <tr>\n",
       "      <th>1195</th>\n",
       "      <td>Prevalence</td>\n",
       "      <td>Amapá</td>\n",
       "      <td>Both</td>\n",
       "      <td>All ages</td>\n",
       "      <td>Diabetes mellitus type 2</td>\n",
       "      <td>Percent</td>\n",
       "      <td>1998</td>\n",
       "      <td>0.018032</td>\n",
       "      <td>0.020034</td>\n",
       "      <td>0.016215</td>\n",
       "      <td>1.803189</td>\n",
       "    </tr>\n",
       "    <tr>\n",
       "      <th>1198</th>\n",
       "      <td>Prevalence</td>\n",
       "      <td>Amapá</td>\n",
       "      <td>Both</td>\n",
       "      <td>All ages</td>\n",
       "      <td>Diabetes mellitus type 2</td>\n",
       "      <td>Percent</td>\n",
       "      <td>1999</td>\n",
       "      <td>0.018243</td>\n",
       "      <td>0.020281</td>\n",
       "      <td>0.016377</td>\n",
       "      <td>1.824320</td>\n",
       "    </tr>\n",
       "    <tr>\n",
       "      <th>1201</th>\n",
       "      <td>Prevalence</td>\n",
       "      <td>Amapá</td>\n",
       "      <td>Both</td>\n",
       "      <td>All ages</td>\n",
       "      <td>Diabetes mellitus type 2</td>\n",
       "      <td>Percent</td>\n",
       "      <td>2000</td>\n",
       "      <td>0.018529</td>\n",
       "      <td>0.020584</td>\n",
       "      <td>0.016570</td>\n",
       "      <td>1.852913</td>\n",
       "    </tr>\n",
       "    <tr>\n",
       "      <th>1204</th>\n",
       "      <td>Prevalence</td>\n",
       "      <td>Amapá</td>\n",
       "      <td>Both</td>\n",
       "      <td>All ages</td>\n",
       "      <td>Diabetes mellitus type 2</td>\n",
       "      <td>Percent</td>\n",
       "      <td>2001</td>\n",
       "      <td>0.019070</td>\n",
       "      <td>0.021154</td>\n",
       "      <td>0.017077</td>\n",
       "      <td>1.907027</td>\n",
       "    </tr>\n",
       "    <tr>\n",
       "      <th>1207</th>\n",
       "      <td>Prevalence</td>\n",
       "      <td>Amapá</td>\n",
       "      <td>Both</td>\n",
       "      <td>All ages</td>\n",
       "      <td>Diabetes mellitus type 2</td>\n",
       "      <td>Percent</td>\n",
       "      <td>2002</td>\n",
       "      <td>0.019940</td>\n",
       "      <td>0.022129</td>\n",
       "      <td>0.017897</td>\n",
       "      <td>1.993979</td>\n",
       "    </tr>\n",
       "    <tr>\n",
       "      <th>1210</th>\n",
       "      <td>Prevalence</td>\n",
       "      <td>Amapá</td>\n",
       "      <td>Both</td>\n",
       "      <td>All ages</td>\n",
       "      <td>Diabetes mellitus type 2</td>\n",
       "      <td>Percent</td>\n",
       "      <td>2003</td>\n",
       "      <td>0.020990</td>\n",
       "      <td>0.023334</td>\n",
       "      <td>0.018805</td>\n",
       "      <td>2.099043</td>\n",
       "    </tr>\n",
       "    <tr>\n",
       "      <th>1213</th>\n",
       "      <td>Prevalence</td>\n",
       "      <td>Amapá</td>\n",
       "      <td>Both</td>\n",
       "      <td>All ages</td>\n",
       "      <td>Diabetes mellitus type 2</td>\n",
       "      <td>Percent</td>\n",
       "      <td>2004</td>\n",
       "      <td>0.022067</td>\n",
       "      <td>0.024611</td>\n",
       "      <td>0.019758</td>\n",
       "      <td>2.206685</td>\n",
       "    </tr>\n",
       "    <tr>\n",
       "      <th>1216</th>\n",
       "      <td>Prevalence</td>\n",
       "      <td>Amapá</td>\n",
       "      <td>Both</td>\n",
       "      <td>All ages</td>\n",
       "      <td>Diabetes mellitus type 2</td>\n",
       "      <td>Percent</td>\n",
       "      <td>2005</td>\n",
       "      <td>0.022992</td>\n",
       "      <td>0.025669</td>\n",
       "      <td>0.020522</td>\n",
       "      <td>2.299213</td>\n",
       "    </tr>\n",
       "    <tr>\n",
       "      <th>1219</th>\n",
       "      <td>Prevalence</td>\n",
       "      <td>Amapá</td>\n",
       "      <td>Both</td>\n",
       "      <td>All ages</td>\n",
       "      <td>Diabetes mellitus type 2</td>\n",
       "      <td>Percent</td>\n",
       "      <td>2006</td>\n",
       "      <td>0.023787</td>\n",
       "      <td>0.026436</td>\n",
       "      <td>0.021368</td>\n",
       "      <td>2.378667</td>\n",
       "    </tr>\n",
       "    <tr>\n",
       "      <th>1222</th>\n",
       "      <td>Prevalence</td>\n",
       "      <td>Amapá</td>\n",
       "      <td>Both</td>\n",
       "      <td>All ages</td>\n",
       "      <td>Diabetes mellitus type 2</td>\n",
       "      <td>Percent</td>\n",
       "      <td>2007</td>\n",
       "      <td>0.024595</td>\n",
       "      <td>0.027227</td>\n",
       "      <td>0.022099</td>\n",
       "      <td>2.459522</td>\n",
       "    </tr>\n",
       "    <tr>\n",
       "      <th>1225</th>\n",
       "      <td>Prevalence</td>\n",
       "      <td>Amapá</td>\n",
       "      <td>Both</td>\n",
       "      <td>All ages</td>\n",
       "      <td>Diabetes mellitus type 2</td>\n",
       "      <td>Percent</td>\n",
       "      <td>2008</td>\n",
       "      <td>0.025413</td>\n",
       "      <td>0.028132</td>\n",
       "      <td>0.022717</td>\n",
       "      <td>2.541306</td>\n",
       "    </tr>\n",
       "    <tr>\n",
       "      <th>1228</th>\n",
       "      <td>Prevalence</td>\n",
       "      <td>Amapá</td>\n",
       "      <td>Both</td>\n",
       "      <td>All ages</td>\n",
       "      <td>Diabetes mellitus type 2</td>\n",
       "      <td>Percent</td>\n",
       "      <td>2009</td>\n",
       "      <td>0.026246</td>\n",
       "      <td>0.029073</td>\n",
       "      <td>0.023400</td>\n",
       "      <td>2.624609</td>\n",
       "    </tr>\n",
       "    <tr>\n",
       "      <th>1231</th>\n",
       "      <td>Prevalence</td>\n",
       "      <td>Amapá</td>\n",
       "      <td>Both</td>\n",
       "      <td>All ages</td>\n",
       "      <td>Diabetes mellitus type 2</td>\n",
       "      <td>Percent</td>\n",
       "      <td>2010</td>\n",
       "      <td>0.027102</td>\n",
       "      <td>0.030148</td>\n",
       "      <td>0.024140</td>\n",
       "      <td>2.710212</td>\n",
       "    </tr>\n",
       "    <tr>\n",
       "      <th>1234</th>\n",
       "      <td>Prevalence</td>\n",
       "      <td>Amapá</td>\n",
       "      <td>Both</td>\n",
       "      <td>All ages</td>\n",
       "      <td>Diabetes mellitus type 2</td>\n",
       "      <td>Percent</td>\n",
       "      <td>2011</td>\n",
       "      <td>0.028142</td>\n",
       "      <td>0.031169</td>\n",
       "      <td>0.025223</td>\n",
       "      <td>2.814231</td>\n",
       "    </tr>\n",
       "    <tr>\n",
       "      <th>1237</th>\n",
       "      <td>Prevalence</td>\n",
       "      <td>Amapá</td>\n",
       "      <td>Both</td>\n",
       "      <td>All ages</td>\n",
       "      <td>Diabetes mellitus type 2</td>\n",
       "      <td>Percent</td>\n",
       "      <td>2012</td>\n",
       "      <td>0.029453</td>\n",
       "      <td>0.032618</td>\n",
       "      <td>0.026599</td>\n",
       "      <td>2.945311</td>\n",
       "    </tr>\n",
       "    <tr>\n",
       "      <th>1240</th>\n",
       "      <td>Prevalence</td>\n",
       "      <td>Amapá</td>\n",
       "      <td>Both</td>\n",
       "      <td>All ages</td>\n",
       "      <td>Diabetes mellitus type 2</td>\n",
       "      <td>Percent</td>\n",
       "      <td>2013</td>\n",
       "      <td>0.030914</td>\n",
       "      <td>0.034170</td>\n",
       "      <td>0.027885</td>\n",
       "      <td>3.091410</td>\n",
       "    </tr>\n",
       "    <tr>\n",
       "      <th>1243</th>\n",
       "      <td>Prevalence</td>\n",
       "      <td>Amapá</td>\n",
       "      <td>Both</td>\n",
       "      <td>All ages</td>\n",
       "      <td>Diabetes mellitus type 2</td>\n",
       "      <td>Percent</td>\n",
       "      <td>2014</td>\n",
       "      <td>0.032391</td>\n",
       "      <td>0.035835</td>\n",
       "      <td>0.029255</td>\n",
       "      <td>3.239107</td>\n",
       "    </tr>\n",
       "    <tr>\n",
       "      <th>1246</th>\n",
       "      <td>Prevalence</td>\n",
       "      <td>Amapá</td>\n",
       "      <td>Both</td>\n",
       "      <td>All ages</td>\n",
       "      <td>Diabetes mellitus type 2</td>\n",
       "      <td>Percent</td>\n",
       "      <td>2015</td>\n",
       "      <td>0.033725</td>\n",
       "      <td>0.037407</td>\n",
       "      <td>0.030302</td>\n",
       "      <td>3.372519</td>\n",
       "    </tr>\n",
       "    <tr>\n",
       "      <th>1249</th>\n",
       "      <td>Prevalence</td>\n",
       "      <td>Amapá</td>\n",
       "      <td>Both</td>\n",
       "      <td>All ages</td>\n",
       "      <td>Diabetes mellitus type 2</td>\n",
       "      <td>Percent</td>\n",
       "      <td>2016</td>\n",
       "      <td>0.035260</td>\n",
       "      <td>0.038911</td>\n",
       "      <td>0.031610</td>\n",
       "      <td>3.526024</td>\n",
       "    </tr>\n",
       "    <tr>\n",
       "      <th>1252</th>\n",
       "      <td>Prevalence</td>\n",
       "      <td>Amapá</td>\n",
       "      <td>Both</td>\n",
       "      <td>All ages</td>\n",
       "      <td>Diabetes mellitus type 2</td>\n",
       "      <td>Percent</td>\n",
       "      <td>2017</td>\n",
       "      <td>0.036633</td>\n",
       "      <td>0.041157</td>\n",
       "      <td>0.032520</td>\n",
       "      <td>3.663254</td>\n",
       "    </tr>\n",
       "    <tr>\n",
       "      <th>1255</th>\n",
       "      <td>Prevalence</td>\n",
       "      <td>Amapá</td>\n",
       "      <td>Both</td>\n",
       "      <td>All ages</td>\n",
       "      <td>Diabetes mellitus type 2</td>\n",
       "      <td>Percent</td>\n",
       "      <td>2018</td>\n",
       "      <td>0.037356</td>\n",
       "      <td>0.041425</td>\n",
       "      <td>0.033605</td>\n",
       "      <td>3.735599</td>\n",
       "    </tr>\n",
       "    <tr>\n",
       "      <th>1258</th>\n",
       "      <td>Prevalence</td>\n",
       "      <td>Amapá</td>\n",
       "      <td>Both</td>\n",
       "      <td>All ages</td>\n",
       "      <td>Diabetes mellitus type 2</td>\n",
       "      <td>Percent</td>\n",
       "      <td>2019</td>\n",
       "      <td>0.037722</td>\n",
       "      <td>0.041840</td>\n",
       "      <td>0.033723</td>\n",
       "      <td>3.772185</td>\n",
       "    </tr>\n",
       "    <tr>\n",
       "      <th>1981</th>\n",
       "      <td>Prevalence</td>\n",
       "      <td>Pará</td>\n",
       "      <td>Both</td>\n",
       "      <td>All ages</td>\n",
       "      <td>Diabetes mellitus type 2</td>\n",
       "      <td>Percent</td>\n",
       "      <td>1990</td>\n",
       "      <td>0.020106</td>\n",
       "      <td>0.022283</td>\n",
       "      <td>0.017948</td>\n",
       "      <td>2.010636</td>\n",
       "    </tr>\n",
       "    <tr>\n",
       "      <th>1984</th>\n",
       "      <td>Prevalence</td>\n",
       "      <td>Pará</td>\n",
       "      <td>Both</td>\n",
       "      <td>All ages</td>\n",
       "      <td>Diabetes mellitus type 2</td>\n",
       "      <td>Percent</td>\n",
       "      <td>1991</td>\n",
       "      <td>0.020242</td>\n",
       "      <td>0.022318</td>\n",
       "      <td>0.018150</td>\n",
       "      <td>2.024215</td>\n",
       "    </tr>\n",
       "    <tr>\n",
       "      <th>1987</th>\n",
       "      <td>Prevalence</td>\n",
       "      <td>Pará</td>\n",
       "      <td>Both</td>\n",
       "      <td>All ages</td>\n",
       "      <td>Diabetes mellitus type 2</td>\n",
       "      <td>Percent</td>\n",
       "      <td>1992</td>\n",
       "      <td>0.020426</td>\n",
       "      <td>0.022399</td>\n",
       "      <td>0.018442</td>\n",
       "      <td>2.042616</td>\n",
       "    </tr>\n",
       "    <tr>\n",
       "      <th>1990</th>\n",
       "      <td>Prevalence</td>\n",
       "      <td>Pará</td>\n",
       "      <td>Both</td>\n",
       "      <td>All ages</td>\n",
       "      <td>Diabetes mellitus type 2</td>\n",
       "      <td>Percent</td>\n",
       "      <td>1993</td>\n",
       "      <td>0.020650</td>\n",
       "      <td>0.022729</td>\n",
       "      <td>0.018681</td>\n",
       "      <td>2.064992</td>\n",
       "    </tr>\n",
       "    <tr>\n",
       "      <th>1993</th>\n",
       "      <td>Prevalence</td>\n",
       "      <td>Pará</td>\n",
       "      <td>Both</td>\n",
       "      <td>All ages</td>\n",
       "      <td>Diabetes mellitus type 2</td>\n",
       "      <td>Percent</td>\n",
       "      <td>1994</td>\n",
       "      <td>0.020914</td>\n",
       "      <td>0.023082</td>\n",
       "      <td>0.018936</td>\n",
       "      <td>2.091368</td>\n",
       "    </tr>\n",
       "    <tr>\n",
       "      <th>1996</th>\n",
       "      <td>Prevalence</td>\n",
       "      <td>Pará</td>\n",
       "      <td>Both</td>\n",
       "      <td>All ages</td>\n",
       "      <td>Diabetes mellitus type 2</td>\n",
       "      <td>Percent</td>\n",
       "      <td>1995</td>\n",
       "      <td>0.021222</td>\n",
       "      <td>0.023530</td>\n",
       "      <td>0.019145</td>\n",
       "      <td>2.122196</td>\n",
       "    </tr>\n",
       "    <tr>\n",
       "      <th>1999</th>\n",
       "      <td>Prevalence</td>\n",
       "      <td>Pará</td>\n",
       "      <td>Both</td>\n",
       "      <td>All ages</td>\n",
       "      <td>Diabetes mellitus type 2</td>\n",
       "      <td>Percent</td>\n",
       "      <td>1996</td>\n",
       "      <td>0.021569</td>\n",
       "      <td>0.023836</td>\n",
       "      <td>0.019495</td>\n",
       "      <td>2.156883</td>\n",
       "    </tr>\n",
       "    <tr>\n",
       "      <th>2002</th>\n",
       "      <td>Prevalence</td>\n",
       "      <td>Pará</td>\n",
       "      <td>Both</td>\n",
       "      <td>All ages</td>\n",
       "      <td>Diabetes mellitus type 2</td>\n",
       "      <td>Percent</td>\n",
       "      <td>1997</td>\n",
       "      <td>0.021942</td>\n",
       "      <td>0.024199</td>\n",
       "      <td>0.019752</td>\n",
       "      <td>2.194200</td>\n",
       "    </tr>\n",
       "    <tr>\n",
       "      <th>2005</th>\n",
       "      <td>Prevalence</td>\n",
       "      <td>Pará</td>\n",
       "      <td>Both</td>\n",
       "      <td>All ages</td>\n",
       "      <td>Diabetes mellitus type 2</td>\n",
       "      <td>Percent</td>\n",
       "      <td>1998</td>\n",
       "      <td>0.022342</td>\n",
       "      <td>0.024633</td>\n",
       "      <td>0.020084</td>\n",
       "      <td>2.234186</td>\n",
       "    </tr>\n",
       "    <tr>\n",
       "      <th>2008</th>\n",
       "      <td>Prevalence</td>\n",
       "      <td>Pará</td>\n",
       "      <td>Both</td>\n",
       "      <td>All ages</td>\n",
       "      <td>Diabetes mellitus type 2</td>\n",
       "      <td>Percent</td>\n",
       "      <td>1999</td>\n",
       "      <td>0.022774</td>\n",
       "      <td>0.025228</td>\n",
       "      <td>0.020401</td>\n",
       "      <td>2.277434</td>\n",
       "    </tr>\n",
       "    <tr>\n",
       "      <th>2011</th>\n",
       "      <td>Prevalence</td>\n",
       "      <td>Pará</td>\n",
       "      <td>Both</td>\n",
       "      <td>All ages</td>\n",
       "      <td>Diabetes mellitus type 2</td>\n",
       "      <td>Percent</td>\n",
       "      <td>2000</td>\n",
       "      <td>0.023250</td>\n",
       "      <td>0.025949</td>\n",
       "      <td>0.020743</td>\n",
       "      <td>2.325042</td>\n",
       "    </tr>\n",
       "    <tr>\n",
       "      <th>2014</th>\n",
       "      <td>Prevalence</td>\n",
       "      <td>Pará</td>\n",
       "      <td>Both</td>\n",
       "      <td>All ages</td>\n",
       "      <td>Diabetes mellitus type 2</td>\n",
       "      <td>Percent</td>\n",
       "      <td>2001</td>\n",
       "      <td>0.024074</td>\n",
       "      <td>0.026767</td>\n",
       "      <td>0.021599</td>\n",
       "      <td>2.407383</td>\n",
       "    </tr>\n",
       "    <tr>\n",
       "      <th>2017</th>\n",
       "      <td>Prevalence</td>\n",
       "      <td>Pará</td>\n",
       "      <td>Both</td>\n",
       "      <td>All ages</td>\n",
       "      <td>Diabetes mellitus type 2</td>\n",
       "      <td>Percent</td>\n",
       "      <td>2002</td>\n",
       "      <td>0.025367</td>\n",
       "      <td>0.027989</td>\n",
       "      <td>0.022909</td>\n",
       "      <td>2.536734</td>\n",
       "    </tr>\n",
       "    <tr>\n",
       "      <th>2020</th>\n",
       "      <td>Prevalence</td>\n",
       "      <td>Pará</td>\n",
       "      <td>Both</td>\n",
       "      <td>All ages</td>\n",
       "      <td>Diabetes mellitus type 2</td>\n",
       "      <td>Percent</td>\n",
       "      <td>2003</td>\n",
       "      <td>0.026888</td>\n",
       "      <td>0.029634</td>\n",
       "      <td>0.024285</td>\n",
       "      <td>2.688750</td>\n",
       "    </tr>\n",
       "    <tr>\n",
       "      <th>2023</th>\n",
       "      <td>Prevalence</td>\n",
       "      <td>Pará</td>\n",
       "      <td>Both</td>\n",
       "      <td>All ages</td>\n",
       "      <td>Diabetes mellitus type 2</td>\n",
       "      <td>Percent</td>\n",
       "      <td>2004</td>\n",
       "      <td>0.028380</td>\n",
       "      <td>0.031359</td>\n",
       "      <td>0.025516</td>\n",
       "      <td>2.837954</td>\n",
       "    </tr>\n",
       "    <tr>\n",
       "      <th>2026</th>\n",
       "      <td>Prevalence</td>\n",
       "      <td>Pará</td>\n",
       "      <td>Both</td>\n",
       "      <td>All ages</td>\n",
       "      <td>Diabetes mellitus type 2</td>\n",
       "      <td>Percent</td>\n",
       "      <td>2005</td>\n",
       "      <td>0.029577</td>\n",
       "      <td>0.032689</td>\n",
       "      <td>0.026431</td>\n",
       "      <td>2.957708</td>\n",
       "    </tr>\n",
       "    <tr>\n",
       "      <th>2029</th>\n",
       "      <td>Prevalence</td>\n",
       "      <td>Pará</td>\n",
       "      <td>Both</td>\n",
       "      <td>All ages</td>\n",
       "      <td>Diabetes mellitus type 2</td>\n",
       "      <td>Percent</td>\n",
       "      <td>2006</td>\n",
       "      <td>0.030549</td>\n",
       "      <td>0.033762</td>\n",
       "      <td>0.027391</td>\n",
       "      <td>3.054886</td>\n",
       "    </tr>\n",
       "    <tr>\n",
       "      <th>2032</th>\n",
       "      <td>Prevalence</td>\n",
       "      <td>Pará</td>\n",
       "      <td>Both</td>\n",
       "      <td>All ages</td>\n",
       "      <td>Diabetes mellitus type 2</td>\n",
       "      <td>Percent</td>\n",
       "      <td>2007</td>\n",
       "      <td>0.031520</td>\n",
       "      <td>0.034818</td>\n",
       "      <td>0.028319</td>\n",
       "      <td>3.152034</td>\n",
       "    </tr>\n",
       "    <tr>\n",
       "      <th>2035</th>\n",
       "      <td>Prevalence</td>\n",
       "      <td>Pará</td>\n",
       "      <td>Both</td>\n",
       "      <td>All ages</td>\n",
       "      <td>Diabetes mellitus type 2</td>\n",
       "      <td>Percent</td>\n",
       "      <td>2008</td>\n",
       "      <td>0.032485</td>\n",
       "      <td>0.035907</td>\n",
       "      <td>0.029131</td>\n",
       "      <td>3.248522</td>\n",
       "    </tr>\n",
       "    <tr>\n",
       "      <th>2038</th>\n",
       "      <td>Prevalence</td>\n",
       "      <td>Pará</td>\n",
       "      <td>Both</td>\n",
       "      <td>All ages</td>\n",
       "      <td>Diabetes mellitus type 2</td>\n",
       "      <td>Percent</td>\n",
       "      <td>2009</td>\n",
       "      <td>0.033448</td>\n",
       "      <td>0.037073</td>\n",
       "      <td>0.029911</td>\n",
       "      <td>3.344759</td>\n",
       "    </tr>\n",
       "    <tr>\n",
       "      <th>2041</th>\n",
       "      <td>Prevalence</td>\n",
       "      <td>Pará</td>\n",
       "      <td>Both</td>\n",
       "      <td>All ages</td>\n",
       "      <td>Diabetes mellitus type 2</td>\n",
       "      <td>Percent</td>\n",
       "      <td>2010</td>\n",
       "      <td>0.034409</td>\n",
       "      <td>0.038383</td>\n",
       "      <td>0.030676</td>\n",
       "      <td>3.440908</td>\n",
       "    </tr>\n",
       "    <tr>\n",
       "      <th>2044</th>\n",
       "      <td>Prevalence</td>\n",
       "      <td>Pará</td>\n",
       "      <td>Both</td>\n",
       "      <td>All ages</td>\n",
       "      <td>Diabetes mellitus type 2</td>\n",
       "      <td>Percent</td>\n",
       "      <td>2011</td>\n",
       "      <td>0.035547</td>\n",
       "      <td>0.039382</td>\n",
       "      <td>0.031883</td>\n",
       "      <td>3.554715</td>\n",
       "    </tr>\n",
       "    <tr>\n",
       "      <th>2047</th>\n",
       "      <td>Prevalence</td>\n",
       "      <td>Pará</td>\n",
       "      <td>Both</td>\n",
       "      <td>All ages</td>\n",
       "      <td>Diabetes mellitus type 2</td>\n",
       "      <td>Percent</td>\n",
       "      <td>2012</td>\n",
       "      <td>0.036940</td>\n",
       "      <td>0.040826</td>\n",
       "      <td>0.033340</td>\n",
       "      <td>3.693997</td>\n",
       "    </tr>\n",
       "    <tr>\n",
       "      <th>2050</th>\n",
       "      <td>Prevalence</td>\n",
       "      <td>Pará</td>\n",
       "      <td>Both</td>\n",
       "      <td>All ages</td>\n",
       "      <td>Diabetes mellitus type 2</td>\n",
       "      <td>Percent</td>\n",
       "      <td>2013</td>\n",
       "      <td>0.038454</td>\n",
       "      <td>0.042384</td>\n",
       "      <td>0.034800</td>\n",
       "      <td>3.845365</td>\n",
       "    </tr>\n",
       "    <tr>\n",
       "      <th>2053</th>\n",
       "      <td>Prevalence</td>\n",
       "      <td>Pará</td>\n",
       "      <td>Both</td>\n",
       "      <td>All ages</td>\n",
       "      <td>Diabetes mellitus type 2</td>\n",
       "      <td>Percent</td>\n",
       "      <td>2014</td>\n",
       "      <td>0.039942</td>\n",
       "      <td>0.044243</td>\n",
       "      <td>0.036002</td>\n",
       "      <td>3.994247</td>\n",
       "    </tr>\n",
       "    <tr>\n",
       "      <th>2056</th>\n",
       "      <td>Prevalence</td>\n",
       "      <td>Pará</td>\n",
       "      <td>Both</td>\n",
       "      <td>All ages</td>\n",
       "      <td>Diabetes mellitus type 2</td>\n",
       "      <td>Percent</td>\n",
       "      <td>2015</td>\n",
       "      <td>0.041245</td>\n",
       "      <td>0.045814</td>\n",
       "      <td>0.037166</td>\n",
       "      <td>4.124458</td>\n",
       "    </tr>\n",
       "    <tr>\n",
       "      <th>2059</th>\n",
       "      <td>Prevalence</td>\n",
       "      <td>Pará</td>\n",
       "      <td>Both</td>\n",
       "      <td>All ages</td>\n",
       "      <td>Diabetes mellitus type 2</td>\n",
       "      <td>Percent</td>\n",
       "      <td>2016</td>\n",
       "      <td>0.042412</td>\n",
       "      <td>0.046453</td>\n",
       "      <td>0.038494</td>\n",
       "      <td>4.241224</td>\n",
       "    </tr>\n",
       "    <tr>\n",
       "      <th>2062</th>\n",
       "      <td>Prevalence</td>\n",
       "      <td>Pará</td>\n",
       "      <td>Both</td>\n",
       "      <td>All ages</td>\n",
       "      <td>Diabetes mellitus type 2</td>\n",
       "      <td>Percent</td>\n",
       "      <td>2017</td>\n",
       "      <td>0.043430</td>\n",
       "      <td>0.047907</td>\n",
       "      <td>0.039040</td>\n",
       "      <td>4.343027</td>\n",
       "    </tr>\n",
       "    <tr>\n",
       "      <th>2065</th>\n",
       "      <td>Prevalence</td>\n",
       "      <td>Pará</td>\n",
       "      <td>Both</td>\n",
       "      <td>All ages</td>\n",
       "      <td>Diabetes mellitus type 2</td>\n",
       "      <td>Percent</td>\n",
       "      <td>2018</td>\n",
       "      <td>0.044181</td>\n",
       "      <td>0.048423</td>\n",
       "      <td>0.040000</td>\n",
       "      <td>4.418085</td>\n",
       "    </tr>\n",
       "    <tr>\n",
       "      <th>2068</th>\n",
       "      <td>Prevalence</td>\n",
       "      <td>Pará</td>\n",
       "      <td>Both</td>\n",
       "      <td>All ages</td>\n",
       "      <td>Diabetes mellitus type 2</td>\n",
       "      <td>Percent</td>\n",
       "      <td>2019</td>\n",
       "      <td>0.044696</td>\n",
       "      <td>0.049226</td>\n",
       "      <td>0.040443</td>\n",
       "      <td>4.469582</td>\n",
       "    </tr>\n",
       "  </tbody>\n",
       "</table>\n",
       "</div>"
      ],
      "text/plain": [
       "         measure location   sex       age                     cause   metric  \\\n",
       "1171  Prevalence    Amapá  Both  All ages  Diabetes mellitus type 2  Percent   \n",
       "1174  Prevalence    Amapá  Both  All ages  Diabetes mellitus type 2  Percent   \n",
       "1177  Prevalence    Amapá  Both  All ages  Diabetes mellitus type 2  Percent   \n",
       "1180  Prevalence    Amapá  Both  All ages  Diabetes mellitus type 2  Percent   \n",
       "1183  Prevalence    Amapá  Both  All ages  Diabetes mellitus type 2  Percent   \n",
       "1186  Prevalence    Amapá  Both  All ages  Diabetes mellitus type 2  Percent   \n",
       "1189  Prevalence    Amapá  Both  All ages  Diabetes mellitus type 2  Percent   \n",
       "1192  Prevalence    Amapá  Both  All ages  Diabetes mellitus type 2  Percent   \n",
       "1195  Prevalence    Amapá  Both  All ages  Diabetes mellitus type 2  Percent   \n",
       "1198  Prevalence    Amapá  Both  All ages  Diabetes mellitus type 2  Percent   \n",
       "1201  Prevalence    Amapá  Both  All ages  Diabetes mellitus type 2  Percent   \n",
       "1204  Prevalence    Amapá  Both  All ages  Diabetes mellitus type 2  Percent   \n",
       "1207  Prevalence    Amapá  Both  All ages  Diabetes mellitus type 2  Percent   \n",
       "1210  Prevalence    Amapá  Both  All ages  Diabetes mellitus type 2  Percent   \n",
       "1213  Prevalence    Amapá  Both  All ages  Diabetes mellitus type 2  Percent   \n",
       "1216  Prevalence    Amapá  Both  All ages  Diabetes mellitus type 2  Percent   \n",
       "1219  Prevalence    Amapá  Both  All ages  Diabetes mellitus type 2  Percent   \n",
       "1222  Prevalence    Amapá  Both  All ages  Diabetes mellitus type 2  Percent   \n",
       "1225  Prevalence    Amapá  Both  All ages  Diabetes mellitus type 2  Percent   \n",
       "1228  Prevalence    Amapá  Both  All ages  Diabetes mellitus type 2  Percent   \n",
       "1231  Prevalence    Amapá  Both  All ages  Diabetes mellitus type 2  Percent   \n",
       "1234  Prevalence    Amapá  Both  All ages  Diabetes mellitus type 2  Percent   \n",
       "1237  Prevalence    Amapá  Both  All ages  Diabetes mellitus type 2  Percent   \n",
       "1240  Prevalence    Amapá  Both  All ages  Diabetes mellitus type 2  Percent   \n",
       "1243  Prevalence    Amapá  Both  All ages  Diabetes mellitus type 2  Percent   \n",
       "1246  Prevalence    Amapá  Both  All ages  Diabetes mellitus type 2  Percent   \n",
       "1249  Prevalence    Amapá  Both  All ages  Diabetes mellitus type 2  Percent   \n",
       "1252  Prevalence    Amapá  Both  All ages  Diabetes mellitus type 2  Percent   \n",
       "1255  Prevalence    Amapá  Both  All ages  Diabetes mellitus type 2  Percent   \n",
       "1258  Prevalence    Amapá  Both  All ages  Diabetes mellitus type 2  Percent   \n",
       "1981  Prevalence     Pará  Both  All ages  Diabetes mellitus type 2  Percent   \n",
       "1984  Prevalence     Pará  Both  All ages  Diabetes mellitus type 2  Percent   \n",
       "1987  Prevalence     Pará  Both  All ages  Diabetes mellitus type 2  Percent   \n",
       "1990  Prevalence     Pará  Both  All ages  Diabetes mellitus type 2  Percent   \n",
       "1993  Prevalence     Pará  Both  All ages  Diabetes mellitus type 2  Percent   \n",
       "1996  Prevalence     Pará  Both  All ages  Diabetes mellitus type 2  Percent   \n",
       "1999  Prevalence     Pará  Both  All ages  Diabetes mellitus type 2  Percent   \n",
       "2002  Prevalence     Pará  Both  All ages  Diabetes mellitus type 2  Percent   \n",
       "2005  Prevalence     Pará  Both  All ages  Diabetes mellitus type 2  Percent   \n",
       "2008  Prevalence     Pará  Both  All ages  Diabetes mellitus type 2  Percent   \n",
       "2011  Prevalence     Pará  Both  All ages  Diabetes mellitus type 2  Percent   \n",
       "2014  Prevalence     Pará  Both  All ages  Diabetes mellitus type 2  Percent   \n",
       "2017  Prevalence     Pará  Both  All ages  Diabetes mellitus type 2  Percent   \n",
       "2020  Prevalence     Pará  Both  All ages  Diabetes mellitus type 2  Percent   \n",
       "2023  Prevalence     Pará  Both  All ages  Diabetes mellitus type 2  Percent   \n",
       "2026  Prevalence     Pará  Both  All ages  Diabetes mellitus type 2  Percent   \n",
       "2029  Prevalence     Pará  Both  All ages  Diabetes mellitus type 2  Percent   \n",
       "2032  Prevalence     Pará  Both  All ages  Diabetes mellitus type 2  Percent   \n",
       "2035  Prevalence     Pará  Both  All ages  Diabetes mellitus type 2  Percent   \n",
       "2038  Prevalence     Pará  Both  All ages  Diabetes mellitus type 2  Percent   \n",
       "2041  Prevalence     Pará  Both  All ages  Diabetes mellitus type 2  Percent   \n",
       "2044  Prevalence     Pará  Both  All ages  Diabetes mellitus type 2  Percent   \n",
       "2047  Prevalence     Pará  Both  All ages  Diabetes mellitus type 2  Percent   \n",
       "2050  Prevalence     Pará  Both  All ages  Diabetes mellitus type 2  Percent   \n",
       "2053  Prevalence     Pará  Both  All ages  Diabetes mellitus type 2  Percent   \n",
       "2056  Prevalence     Pará  Both  All ages  Diabetes mellitus type 2  Percent   \n",
       "2059  Prevalence     Pará  Both  All ages  Diabetes mellitus type 2  Percent   \n",
       "2062  Prevalence     Pará  Both  All ages  Diabetes mellitus type 2  Percent   \n",
       "2065  Prevalence     Pará  Both  All ages  Diabetes mellitus type 2  Percent   \n",
       "2068  Prevalence     Pará  Both  All ages  Diabetes mellitus type 2  Percent   \n",
       "\n",
       "      year       val     upper     lower  val_percent  \n",
       "1171  1990  0.017306  0.019288  0.015551     1.730590  \n",
       "1174  1991  0.017364  0.019318  0.015628     1.736433  \n",
       "1177  1992  0.017426  0.019272  0.015723     1.742555  \n",
       "1180  1993  0.017492  0.019376  0.015774     1.749155  \n",
       "1183  1994  0.017568  0.019508  0.015815     1.756828  \n",
       "1186  1995  0.017660  0.019670  0.015852     1.766005  \n",
       "1189  1996  0.017760  0.019727  0.016004     1.776008  \n",
       "1192  1997  0.017878  0.019830  0.016109     1.787750  \n",
       "1195  1998  0.018032  0.020034  0.016215     1.803189  \n",
       "1198  1999  0.018243  0.020281  0.016377     1.824320  \n",
       "1201  2000  0.018529  0.020584  0.016570     1.852913  \n",
       "1204  2001  0.019070  0.021154  0.017077     1.907027  \n",
       "1207  2002  0.019940  0.022129  0.017897     1.993979  \n",
       "1210  2003  0.020990  0.023334  0.018805     2.099043  \n",
       "1213  2004  0.022067  0.024611  0.019758     2.206685  \n",
       "1216  2005  0.022992  0.025669  0.020522     2.299213  \n",
       "1219  2006  0.023787  0.026436  0.021368     2.378667  \n",
       "1222  2007  0.024595  0.027227  0.022099     2.459522  \n",
       "1225  2008  0.025413  0.028132  0.022717     2.541306  \n",
       "1228  2009  0.026246  0.029073  0.023400     2.624609  \n",
       "1231  2010  0.027102  0.030148  0.024140     2.710212  \n",
       "1234  2011  0.028142  0.031169  0.025223     2.814231  \n",
       "1237  2012  0.029453  0.032618  0.026599     2.945311  \n",
       "1240  2013  0.030914  0.034170  0.027885     3.091410  \n",
       "1243  2014  0.032391  0.035835  0.029255     3.239107  \n",
       "1246  2015  0.033725  0.037407  0.030302     3.372519  \n",
       "1249  2016  0.035260  0.038911  0.031610     3.526024  \n",
       "1252  2017  0.036633  0.041157  0.032520     3.663254  \n",
       "1255  2018  0.037356  0.041425  0.033605     3.735599  \n",
       "1258  2019  0.037722  0.041840  0.033723     3.772185  \n",
       "1981  1990  0.020106  0.022283  0.017948     2.010636  \n",
       "1984  1991  0.020242  0.022318  0.018150     2.024215  \n",
       "1987  1992  0.020426  0.022399  0.018442     2.042616  \n",
       "1990  1993  0.020650  0.022729  0.018681     2.064992  \n",
       "1993  1994  0.020914  0.023082  0.018936     2.091368  \n",
       "1996  1995  0.021222  0.023530  0.019145     2.122196  \n",
       "1999  1996  0.021569  0.023836  0.019495     2.156883  \n",
       "2002  1997  0.021942  0.024199  0.019752     2.194200  \n",
       "2005  1998  0.022342  0.024633  0.020084     2.234186  \n",
       "2008  1999  0.022774  0.025228  0.020401     2.277434  \n",
       "2011  2000  0.023250  0.025949  0.020743     2.325042  \n",
       "2014  2001  0.024074  0.026767  0.021599     2.407383  \n",
       "2017  2002  0.025367  0.027989  0.022909     2.536734  \n",
       "2020  2003  0.026888  0.029634  0.024285     2.688750  \n",
       "2023  2004  0.028380  0.031359  0.025516     2.837954  \n",
       "2026  2005  0.029577  0.032689  0.026431     2.957708  \n",
       "2029  2006  0.030549  0.033762  0.027391     3.054886  \n",
       "2032  2007  0.031520  0.034818  0.028319     3.152034  \n",
       "2035  2008  0.032485  0.035907  0.029131     3.248522  \n",
       "2038  2009  0.033448  0.037073  0.029911     3.344759  \n",
       "2041  2010  0.034409  0.038383  0.030676     3.440908  \n",
       "2044  2011  0.035547  0.039382  0.031883     3.554715  \n",
       "2047  2012  0.036940  0.040826  0.033340     3.693997  \n",
       "2050  2013  0.038454  0.042384  0.034800     3.845365  \n",
       "2053  2014  0.039942  0.044243  0.036002     3.994247  \n",
       "2056  2015  0.041245  0.045814  0.037166     4.124458  \n",
       "2059  2016  0.042412  0.046453  0.038494     4.241224  \n",
       "2062  2017  0.043430  0.047907  0.039040     4.343027  \n",
       "2065  2018  0.044181  0.048423  0.040000     4.418085  \n",
       "2068  2019  0.044696  0.049226  0.040443     4.469582  "
      ]
     },
     "execution_count": 5,
     "metadata": {},
     "output_type": "execute_result"
    }
   ],
   "source": [
    "#create a new dataframe only including Amapá and Pará\n",
    "did=df[df['location'].isin(['Amapá', 'Pará'])]\n",
    "did"
   ]
  },
  {
   "cell_type": "markdown",
   "metadata": {},
   "source": [
    "when plotting the graph, i wanted to add two vertical lines to represent the start and end of the barge implementation.\n",
    "\n",
    "here is the link to the plot.ly documentation used for this: https://plotly.com/python/horizontal-vertical-shapes/"
   ]
  },
  {
   "cell_type": "code",
   "execution_count": 6,
   "metadata": {},
   "outputs": [
    {
     "data": {
      "application/vnd.plotly.v1+json": {
       "config": {
        "plotlyServerURL": "https://plot.ly"
       },
       "data": [
        {
         "hovertemplate": "location=Amapá<br>Year=%{x}<br>Diabetes Prevalence %=%{y}<extra></extra>",
         "legendgroup": "Amapá",
         "line": {
          "color": "#636efa",
          "dash": "solid"
         },
         "marker": {
          "symbol": "circle"
         },
         "mode": "lines",
         "name": "Amapá",
         "orientation": "v",
         "showlegend": true,
         "type": "scatter",
         "x": [
          1990,
          1991,
          1992,
          1993,
          1994,
          1995,
          1996,
          1997,
          1998,
          1999,
          2000,
          2001,
          2002,
          2003,
          2004,
          2005,
          2006,
          2007,
          2008,
          2009,
          2010,
          2011,
          2012,
          2013,
          2014,
          2015,
          2016,
          2017,
          2018,
          2019
         ],
         "xaxis": "x",
         "y": [
          1.7305903,
          1.7364334,
          1.7425545,
          1.7491554999999999,
          1.7568275000000002,
          1.7660050999999999,
          1.776008,
          1.7877500000000002,
          1.8031888999999999,
          1.8243195,
          1.8529133999999998,
          1.9070265999999998,
          1.9939793000000001,
          2.0990428,
          2.2066847000000003,
          2.2992131,
          2.378667,
          2.4595224,
          2.5413058,
          2.6246088,
          2.7102125,
          2.8142308000000003,
          2.9453112999999997,
          3.0914102999999997,
          3.2391067000000002,
          3.372519,
          3.5260241,
          3.6632540999999996,
          3.7355993999999995,
          3.7721846
         ],
         "yaxis": "y"
        },
        {
         "hovertemplate": "location=Pará<br>Year=%{x}<br>Diabetes Prevalence %=%{y}<extra></extra>",
         "legendgroup": "Pará",
         "line": {
          "color": "#EF553B",
          "dash": "solid"
         },
         "marker": {
          "symbol": "circle"
         },
         "mode": "lines",
         "name": "Pará",
         "orientation": "v",
         "showlegend": true,
         "type": "scatter",
         "x": [
          1990,
          1991,
          1992,
          1993,
          1994,
          1995,
          1996,
          1997,
          1998,
          1999,
          2000,
          2001,
          2002,
          2003,
          2004,
          2005,
          2006,
          2007,
          2008,
          2009,
          2010,
          2011,
          2012,
          2013,
          2014,
          2015,
          2016,
          2017,
          2018,
          2019
         ],
         "xaxis": "x",
         "y": [
          2.0106356,
          2.0242151,
          2.0426155,
          2.0649917,
          2.0913682,
          2.1221962,
          2.1568833,
          2.1941995999999997,
          2.2341859,
          2.277434,
          2.3250417,
          2.4073831,
          2.5367344,
          2.6887504,
          2.8379543,
          2.9577078,
          3.0548855,
          3.1520343,
          3.2485219,
          3.3447594999999994,
          3.4409080000000003,
          3.5547145,
          3.6939969,
          3.8453649,
          3.9942474,
          4.1244579,
          4.2412243,
          4.343027,
          4.4180852,
          4.4695822000000005
         ],
         "yaxis": "y"
        }
       ],
       "layout": {
        "annotations": [
         {
          "showarrow": false,
          "text": " Barge implementation",
          "x": 2010,
          "xanchor": "left",
          "xref": "x",
          "y": 1,
          "yanchor": "top",
          "yref": "y domain"
         },
         {
          "showarrow": false,
          "text": " Barge scheme ends",
          "x": 2017,
          "xanchor": "left",
          "xref": "x",
          "y": 0,
          "yanchor": "bottom",
          "yref": "y domain"
         }
        ],
        "legend": {
         "title": {
          "text": "location"
         },
         "tracegroupgap": 0
        },
        "paper_bgcolor": "black",
        "plot_bgcolor": "black",
        "shapes": [
         {
          "line": {
           "color": "white",
           "dash": "dash",
           "width": 3
          },
          "type": "line",
          "x0": 2010,
          "x1": 2010,
          "xref": "x",
          "y0": 0,
          "y1": 1,
          "yref": "y domain"
         },
         {
          "line": {
           "color": "white",
           "dash": "dash",
           "width": 3
          },
          "type": "line",
          "x0": 2017,
          "x1": 2017,
          "xref": "x",
          "y0": 0,
          "y1": 1,
          "yref": "y domain"
         }
        ],
        "template": {
         "data": {
          "bar": [
           {
            "error_x": {
             "color": "#f2f5fa"
            },
            "error_y": {
             "color": "#f2f5fa"
            },
            "marker": {
             "line": {
              "color": "rgb(17,17,17)",
              "width": 0.5
             },
             "pattern": {
              "fillmode": "overlay",
              "size": 10,
              "solidity": 0.2
             }
            },
            "type": "bar"
           }
          ],
          "barpolar": [
           {
            "marker": {
             "line": {
              "color": "rgb(17,17,17)",
              "width": 0.5
             },
             "pattern": {
              "fillmode": "overlay",
              "size": 10,
              "solidity": 0.2
             }
            },
            "type": "barpolar"
           }
          ],
          "carpet": [
           {
            "aaxis": {
             "endlinecolor": "#A2B1C6",
             "gridcolor": "#506784",
             "linecolor": "#506784",
             "minorgridcolor": "#506784",
             "startlinecolor": "#A2B1C6"
            },
            "baxis": {
             "endlinecolor": "#A2B1C6",
             "gridcolor": "#506784",
             "linecolor": "#506784",
             "minorgridcolor": "#506784",
             "startlinecolor": "#A2B1C6"
            },
            "type": "carpet"
           }
          ],
          "choropleth": [
           {
            "colorbar": {
             "outlinewidth": 0,
             "ticks": ""
            },
            "type": "choropleth"
           }
          ],
          "contour": [
           {
            "colorbar": {
             "outlinewidth": 0,
             "ticks": ""
            },
            "colorscale": [
             [
              0,
              "#0d0887"
             ],
             [
              0.1111111111111111,
              "#46039f"
             ],
             [
              0.2222222222222222,
              "#7201a8"
             ],
             [
              0.3333333333333333,
              "#9c179e"
             ],
             [
              0.4444444444444444,
              "#bd3786"
             ],
             [
              0.5555555555555556,
              "#d8576b"
             ],
             [
              0.6666666666666666,
              "#ed7953"
             ],
             [
              0.7777777777777778,
              "#fb9f3a"
             ],
             [
              0.8888888888888888,
              "#fdca26"
             ],
             [
              1,
              "#f0f921"
             ]
            ],
            "type": "contour"
           }
          ],
          "contourcarpet": [
           {
            "colorbar": {
             "outlinewidth": 0,
             "ticks": ""
            },
            "type": "contourcarpet"
           }
          ],
          "heatmap": [
           {
            "colorbar": {
             "outlinewidth": 0,
             "ticks": ""
            },
            "colorscale": [
             [
              0,
              "#0d0887"
             ],
             [
              0.1111111111111111,
              "#46039f"
             ],
             [
              0.2222222222222222,
              "#7201a8"
             ],
             [
              0.3333333333333333,
              "#9c179e"
             ],
             [
              0.4444444444444444,
              "#bd3786"
             ],
             [
              0.5555555555555556,
              "#d8576b"
             ],
             [
              0.6666666666666666,
              "#ed7953"
             ],
             [
              0.7777777777777778,
              "#fb9f3a"
             ],
             [
              0.8888888888888888,
              "#fdca26"
             ],
             [
              1,
              "#f0f921"
             ]
            ],
            "type": "heatmap"
           }
          ],
          "heatmapgl": [
           {
            "colorbar": {
             "outlinewidth": 0,
             "ticks": ""
            },
            "colorscale": [
             [
              0,
              "#0d0887"
             ],
             [
              0.1111111111111111,
              "#46039f"
             ],
             [
              0.2222222222222222,
              "#7201a8"
             ],
             [
              0.3333333333333333,
              "#9c179e"
             ],
             [
              0.4444444444444444,
              "#bd3786"
             ],
             [
              0.5555555555555556,
              "#d8576b"
             ],
             [
              0.6666666666666666,
              "#ed7953"
             ],
             [
              0.7777777777777778,
              "#fb9f3a"
             ],
             [
              0.8888888888888888,
              "#fdca26"
             ],
             [
              1,
              "#f0f921"
             ]
            ],
            "type": "heatmapgl"
           }
          ],
          "histogram": [
           {
            "marker": {
             "pattern": {
              "fillmode": "overlay",
              "size": 10,
              "solidity": 0.2
             }
            },
            "type": "histogram"
           }
          ],
          "histogram2d": [
           {
            "colorbar": {
             "outlinewidth": 0,
             "ticks": ""
            },
            "colorscale": [
             [
              0,
              "#0d0887"
             ],
             [
              0.1111111111111111,
              "#46039f"
             ],
             [
              0.2222222222222222,
              "#7201a8"
             ],
             [
              0.3333333333333333,
              "#9c179e"
             ],
             [
              0.4444444444444444,
              "#bd3786"
             ],
             [
              0.5555555555555556,
              "#d8576b"
             ],
             [
              0.6666666666666666,
              "#ed7953"
             ],
             [
              0.7777777777777778,
              "#fb9f3a"
             ],
             [
              0.8888888888888888,
              "#fdca26"
             ],
             [
              1,
              "#f0f921"
             ]
            ],
            "type": "histogram2d"
           }
          ],
          "histogram2dcontour": [
           {
            "colorbar": {
             "outlinewidth": 0,
             "ticks": ""
            },
            "colorscale": [
             [
              0,
              "#0d0887"
             ],
             [
              0.1111111111111111,
              "#46039f"
             ],
             [
              0.2222222222222222,
              "#7201a8"
             ],
             [
              0.3333333333333333,
              "#9c179e"
             ],
             [
              0.4444444444444444,
              "#bd3786"
             ],
             [
              0.5555555555555556,
              "#d8576b"
             ],
             [
              0.6666666666666666,
              "#ed7953"
             ],
             [
              0.7777777777777778,
              "#fb9f3a"
             ],
             [
              0.8888888888888888,
              "#fdca26"
             ],
             [
              1,
              "#f0f921"
             ]
            ],
            "type": "histogram2dcontour"
           }
          ],
          "mesh3d": [
           {
            "colorbar": {
             "outlinewidth": 0,
             "ticks": ""
            },
            "type": "mesh3d"
           }
          ],
          "parcoords": [
           {
            "line": {
             "colorbar": {
              "outlinewidth": 0,
              "ticks": ""
             }
            },
            "type": "parcoords"
           }
          ],
          "pie": [
           {
            "automargin": true,
            "type": "pie"
           }
          ],
          "scatter": [
           {
            "marker": {
             "line": {
              "color": "#283442"
             }
            },
            "type": "scatter"
           }
          ],
          "scatter3d": [
           {
            "line": {
             "colorbar": {
              "outlinewidth": 0,
              "ticks": ""
             }
            },
            "marker": {
             "colorbar": {
              "outlinewidth": 0,
              "ticks": ""
             }
            },
            "type": "scatter3d"
           }
          ],
          "scattercarpet": [
           {
            "marker": {
             "colorbar": {
              "outlinewidth": 0,
              "ticks": ""
             }
            },
            "type": "scattercarpet"
           }
          ],
          "scattergeo": [
           {
            "marker": {
             "colorbar": {
              "outlinewidth": 0,
              "ticks": ""
             }
            },
            "type": "scattergeo"
           }
          ],
          "scattergl": [
           {
            "marker": {
             "line": {
              "color": "#283442"
             }
            },
            "type": "scattergl"
           }
          ],
          "scattermapbox": [
           {
            "marker": {
             "colorbar": {
              "outlinewidth": 0,
              "ticks": ""
             }
            },
            "type": "scattermapbox"
           }
          ],
          "scatterpolar": [
           {
            "marker": {
             "colorbar": {
              "outlinewidth": 0,
              "ticks": ""
             }
            },
            "type": "scatterpolar"
           }
          ],
          "scatterpolargl": [
           {
            "marker": {
             "colorbar": {
              "outlinewidth": 0,
              "ticks": ""
             }
            },
            "type": "scatterpolargl"
           }
          ],
          "scatterternary": [
           {
            "marker": {
             "colorbar": {
              "outlinewidth": 0,
              "ticks": ""
             }
            },
            "type": "scatterternary"
           }
          ],
          "surface": [
           {
            "colorbar": {
             "outlinewidth": 0,
             "ticks": ""
            },
            "colorscale": [
             [
              0,
              "#0d0887"
             ],
             [
              0.1111111111111111,
              "#46039f"
             ],
             [
              0.2222222222222222,
              "#7201a8"
             ],
             [
              0.3333333333333333,
              "#9c179e"
             ],
             [
              0.4444444444444444,
              "#bd3786"
             ],
             [
              0.5555555555555556,
              "#d8576b"
             ],
             [
              0.6666666666666666,
              "#ed7953"
             ],
             [
              0.7777777777777778,
              "#fb9f3a"
             ],
             [
              0.8888888888888888,
              "#fdca26"
             ],
             [
              1,
              "#f0f921"
             ]
            ],
            "type": "surface"
           }
          ],
          "table": [
           {
            "cells": {
             "fill": {
              "color": "#506784"
             },
             "line": {
              "color": "rgb(17,17,17)"
             }
            },
            "header": {
             "fill": {
              "color": "#2a3f5f"
             },
             "line": {
              "color": "rgb(17,17,17)"
             }
            },
            "type": "table"
           }
          ]
         },
         "layout": {
          "annotationdefaults": {
           "arrowcolor": "#f2f5fa",
           "arrowhead": 0,
           "arrowwidth": 1
          },
          "autotypenumbers": "strict",
          "coloraxis": {
           "colorbar": {
            "outlinewidth": 0,
            "ticks": ""
           }
          },
          "colorscale": {
           "diverging": [
            [
             0,
             "#8e0152"
            ],
            [
             0.1,
             "#c51b7d"
            ],
            [
             0.2,
             "#de77ae"
            ],
            [
             0.3,
             "#f1b6da"
            ],
            [
             0.4,
             "#fde0ef"
            ],
            [
             0.5,
             "#f7f7f7"
            ],
            [
             0.6,
             "#e6f5d0"
            ],
            [
             0.7,
             "#b8e186"
            ],
            [
             0.8,
             "#7fbc41"
            ],
            [
             0.9,
             "#4d9221"
            ],
            [
             1,
             "#276419"
            ]
           ],
           "sequential": [
            [
             0,
             "#0d0887"
            ],
            [
             0.1111111111111111,
             "#46039f"
            ],
            [
             0.2222222222222222,
             "#7201a8"
            ],
            [
             0.3333333333333333,
             "#9c179e"
            ],
            [
             0.4444444444444444,
             "#bd3786"
            ],
            [
             0.5555555555555556,
             "#d8576b"
            ],
            [
             0.6666666666666666,
             "#ed7953"
            ],
            [
             0.7777777777777778,
             "#fb9f3a"
            ],
            [
             0.8888888888888888,
             "#fdca26"
            ],
            [
             1,
             "#f0f921"
            ]
           ],
           "sequentialminus": [
            [
             0,
             "#0d0887"
            ],
            [
             0.1111111111111111,
             "#46039f"
            ],
            [
             0.2222222222222222,
             "#7201a8"
            ],
            [
             0.3333333333333333,
             "#9c179e"
            ],
            [
             0.4444444444444444,
             "#bd3786"
            ],
            [
             0.5555555555555556,
             "#d8576b"
            ],
            [
             0.6666666666666666,
             "#ed7953"
            ],
            [
             0.7777777777777778,
             "#fb9f3a"
            ],
            [
             0.8888888888888888,
             "#fdca26"
            ],
            [
             1,
             "#f0f921"
            ]
           ]
          },
          "colorway": [
           "#636efa",
           "#EF553B",
           "#00cc96",
           "#ab63fa",
           "#FFA15A",
           "#19d3f3",
           "#FF6692",
           "#B6E880",
           "#FF97FF",
           "#FECB52"
          ],
          "font": {
           "color": "#f2f5fa"
          },
          "geo": {
           "bgcolor": "rgb(17,17,17)",
           "lakecolor": "rgb(17,17,17)",
           "landcolor": "rgb(17,17,17)",
           "showlakes": true,
           "showland": true,
           "subunitcolor": "#506784"
          },
          "hoverlabel": {
           "align": "left"
          },
          "hovermode": "closest",
          "mapbox": {
           "style": "dark"
          },
          "paper_bgcolor": "rgb(17,17,17)",
          "plot_bgcolor": "rgb(17,17,17)",
          "polar": {
           "angularaxis": {
            "gridcolor": "#506784",
            "linecolor": "#506784",
            "ticks": ""
           },
           "bgcolor": "rgb(17,17,17)",
           "radialaxis": {
            "gridcolor": "#506784",
            "linecolor": "#506784",
            "ticks": ""
           }
          },
          "scene": {
           "xaxis": {
            "backgroundcolor": "rgb(17,17,17)",
            "gridcolor": "#506784",
            "gridwidth": 2,
            "linecolor": "#506784",
            "showbackground": true,
            "ticks": "",
            "zerolinecolor": "#C8D4E3"
           },
           "yaxis": {
            "backgroundcolor": "rgb(17,17,17)",
            "gridcolor": "#506784",
            "gridwidth": 2,
            "linecolor": "#506784",
            "showbackground": true,
            "ticks": "",
            "zerolinecolor": "#C8D4E3"
           },
           "zaxis": {
            "backgroundcolor": "rgb(17,17,17)",
            "gridcolor": "#506784",
            "gridwidth": 2,
            "linecolor": "#506784",
            "showbackground": true,
            "ticks": "",
            "zerolinecolor": "#C8D4E3"
           }
          },
          "shapedefaults": {
           "line": {
            "color": "#f2f5fa"
           }
          },
          "sliderdefaults": {
           "bgcolor": "#C8D4E3",
           "bordercolor": "rgb(17,17,17)",
           "borderwidth": 1,
           "tickwidth": 0
          },
          "ternary": {
           "aaxis": {
            "gridcolor": "#506784",
            "linecolor": "#506784",
            "ticks": ""
           },
           "baxis": {
            "gridcolor": "#506784",
            "linecolor": "#506784",
            "ticks": ""
           },
           "bgcolor": "rgb(17,17,17)",
           "caxis": {
            "gridcolor": "#506784",
            "linecolor": "#506784",
            "ticks": ""
           }
          },
          "title": {
           "x": 0.05
          },
          "updatemenudefaults": {
           "bgcolor": "#506784",
           "borderwidth": 0
          },
          "xaxis": {
           "automargin": true,
           "gridcolor": "#283442",
           "linecolor": "#506784",
           "ticks": "",
           "title": {
            "standoff": 15
           },
           "zerolinecolor": "#283442",
           "zerolinewidth": 2
          },
          "yaxis": {
           "automargin": true,
           "gridcolor": "#283442",
           "linecolor": "#506784",
           "ticks": "",
           "title": {
            "standoff": 15
           },
           "zerolinecolor": "#283442",
           "zerolinewidth": 2
          }
         }
        },
        "title": {
         "text": "Diabetes Prevalence (percentage) in Amapá and Pará"
        },
        "xaxis": {
         "anchor": "y",
         "domain": [
          0,
          1
         ],
         "title": {
          "text": "Year"
         }
        },
        "yaxis": {
         "anchor": "x",
         "domain": [
          0,
          1
         ],
         "title": {
          "text": "Diabetes Prevalence %"
         }
        }
       }
      }
     },
     "metadata": {},
     "output_type": "display_data"
    }
   ],
   "source": [
    "#plot a line graph of diabetes prevalence in amapá and pará over time.\n",
    "fig = px.line(did, x='year', y='val_percent', color='location', \n",
    "              labels={\n",
    "                     \"year\": \"Year\",\n",
    "                     \"val_percent\": \"Diabetes Prevalence %\"\n",
    "                 }, title=\"Diabetes Prevalence (percentage) in Amapá and Pará\")\n",
    "\n",
    "fig.add_vline(x=2010, line_width=3, line_dash=\"dash\", line_color=\"white\", annotation_text=\" Barge implementation\", \n",
    "              annotation_position=\"top right\")\n",
    "fig.add_vline(x=2017, line_width=3, line_dash=\"dash\", line_color=\"white\", annotation_text=\" Barge scheme ends\", \n",
    "              annotation_position=\"bottom right\")\n",
    "fig.update_layout(template='plotly_dark',plot_bgcolor='black', paper_bgcolor='black')\n",
    "fig.show()"
   ]
  },
  {
   "cell_type": "markdown",
   "metadata": {},
   "source": [
    "when attempting to export the interactive plot.ly graph, i came across an issue. the size of the html file is ENORMOUS and basically crashed the entire wix website when i tried to embed it in. this is because the original html file includes the plotlyjs source code, therefore i opted out in including the plotlyjs source code, given that we are presenting the graph on a website, which needs internet connection anyway.\n",
    "\n",
    "here is a link to the stackoverflow page i used in order to address the issue.\n",
    "https://stackoverflow.com/questions/72498679/plotly-how-to-avoid-huge-html-file-size"
   ]
  },
  {
   "cell_type": "code",
   "execution_count": 7,
   "metadata": {},
   "outputs": [],
   "source": [
    "#export figure (including html file compression). \n",
    "f = open('filename_here.html', \"w\")\n",
    "f.close()\n",
    "with open('filename_here.html', 'a') as f:\n",
    "    f.write(fig.to_html(full_html=False, include_plotlyjs='cdn'))\n",
    "f.close()"
   ]
  },
  {
   "cell_type": "code",
   "execution_count": 8,
   "metadata": {},
   "outputs": [],
   "source": [
    "#creating variables\n",
    "did['post']=np.where(did['year']>=2010,1,0) \n",
    "did['treatment']=np.where(did['location']=='pará',1,0) \n",
    "did['post_treatment']=did['post']*did['treatment'] "
   ]
  },
  {
   "cell_type": "code",
   "execution_count": 9,
   "metadata": {},
   "outputs": [
    {
     "name": "stdout",
     "output_type": "stream",
     "text": [
      "                            OLS Regression Results                            \n",
      "==============================================================================\n",
      "Dep. Variable:            val_percent   R-squared:                       0.665\n",
      "Model:                            OLS   Adj. R-squared:                  0.659\n",
      "Method:                 Least Squares   F-statistic:                     115.2\n",
      "Date:                Tue, 02 Jan 2024   Prob (F-statistic):           2.11e-15\n",
      "Time:                        14:33:24   Log-Likelihood:                -39.807\n",
      "No. Observations:                  60   AIC:                             83.61\n",
      "Df Residuals:                      58   BIC:                             87.80\n",
      "Df Model:                           1                                         \n",
      "Covariance Type:            nonrobust                                         \n",
      "==================================================================================\n",
      "                     coef    std err          t      P>|t|      [0.025      0.975]\n",
      "----------------------------------------------------------------------------------\n",
      "Intercept          2.2452      0.076     29.719      0.000       2.094       2.396\n",
      "post               1.4046      0.131     10.734      0.000       1.143       1.666\n",
      "treatment               0          0        nan        nan           0           0\n",
      "post_treatment          0          0        nan        nan           0           0\n",
      "==============================================================================\n",
      "Omnibus:                        2.573   Durbin-Watson:                   0.306\n",
      "Prob(Omnibus):                  0.276   Jarque-Bera (JB):                2.494\n",
      "Skew:                           0.449   Prob(JB):                        0.287\n",
      "Kurtosis:                       2.563   Cond. No.                          inf\n",
      "==============================================================================\n",
      "\n",
      "Notes:\n",
      "[1] Standard Errors assume that the covariance matrix of the errors is correctly specified.\n",
      "[2] The smallest eigenvalue is      0. This might indicate that there are\n",
      "strong multicollinearity problems or that the design matrix is singular.\n"
     ]
    }
   ],
   "source": [
    "#performing a difference-in-difference analysis\n",
    "did_model = ols('val_percent ~ post + treatment + post_treatment', did).fit()\n",
    "print(did_model.summary())"
   ]
  }
 ],
 "metadata": {
  "kernelspec": {
   "display_name": "Python 3",
   "language": "python",
   "name": "python3"
  },
  "language_info": {
   "codemirror_mode": {
    "name": "ipython",
    "version": 3
   },
   "file_extension": ".py",
   "mimetype": "text/x-python",
   "name": "python",
   "nbconvert_exporter": "python",
   "pygments_lexer": "ipython3",
   "version": "3.12.1"
  }
 },
 "nbformat": 4,
 "nbformat_minor": 2
}
